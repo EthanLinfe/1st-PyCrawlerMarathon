{
 "cells": [
  {
   "cell_type": "markdown",
   "metadata": {},
   "source": [
    "# Python 下載XML檔案與解析\n",
    "\n",
    "\n",
    "* 了解 xml 檔案格式與內容\n",
    "* 能夠利用套件存取 xml 格式的檔案\n"
   ]
  },
  {
   "cell_type": "markdown",
   "metadata": {},
   "source": [
    "## 作業目標\n",
    "\n",
    "* 比較一下範例檔案中的「File I/O」與「xmltodict」讀出來的內容有什麼差異\n",
    "\n",
    "* 根據範例檔案的結果：\n",
    "    1. 請問高雄市有多少地區有溫度資料？\n",
    "    2. 請取出每一個地區所記錄的第一個時間點跟溫度\n",
    "    3. 請取出第一個地區所記錄的每一個時間點跟溫度"
   ]
  },
  {
   "cell_type": "markdown",
   "metadata": {},
   "source": [
    "### 比較一下範例檔案中的「File I/O」與「xmltodict」讀出來的內容有什麼差異\n"
   ]
  },
  {
   "cell_type": "code",
   "execution_count": null,
   "metadata": {},
   "outputs": [],
   "source": [
    "1. FileIO可讀性低,不易理解\n",
    "eIO可讀性低,不易理解\n",
    "2. xmltodict將資訊存成字典, 好分析且速度快"
   ]
  },
  {
   "cell_type": "markdown",
   "metadata": {},
   "source": [
    "### 根據範例檔案的結果：\n",
    "\n",
    "1. 請問高雄市有多少地區有溫度資料？\n",
    "2. 請取出每一個地區所記錄的第一個時間點跟溫度\n",
    "3. 請取出第一個地區所記錄的每一個時間點跟溫度"
   ]
  },
  {
   "cell_type": "code",
   "execution_count": 17,
   "metadata": {},
   "outputs": [
    {
     "name": "stdout",
     "output_type": "stream",
     "text": "38\n"
    }
   ],
   "source": [
    "# 1. 請問高雄市有多少地區有溫度資料？\n",
    "\n",
    "import urllib.request\n",
    "import zipfile\n",
    "import xmltodict\n",
    "\n",
    "res = \"http://opendata.cwb.gov.tw/govdownload?dataid=F-D0047-093&authorizationkey=rdec-key-123-45678-011121314\"\n",
    "urllib.request.urlretrieve(res, \"./data/example.zip\")\n",
    "f = zipfile.ZipFile('./data/example.zip')\n",
    "f.extractall('./data')\n",
    "fh = open(\"./data/64_72hr_CH.xml\", \"r\", encoding='utf-8')\n",
    "xml = fh.read()\n",
    "fh.close()\n",
    "d = dict(xmltodict.parse(xml))\n",
    "locations = d['cwbopendata']['dataset']['locations']['location']\n",
    "print(len(locations))\n",
    "\n",
    "# ANS:38個"
   ]
  },
  {
   "cell_type": "code",
   "execution_count": 52,
   "metadata": {},
   "outputs": [
    {
     "name": "stdout",
     "output_type": "stream",
     "text": "2019-11-27T00:00:00+08:00, 鹽埕區 temperature is 23 攝氏度\n2019-11-27T00:00:00+08:00, 鼓山區 temperature is 23 攝氏度\n2019-11-27T00:00:00+08:00, 左營區 temperature is 22 攝氏度\n2019-11-27T00:00:00+08:00, 楠梓區 temperature is 22 攝氏度\n2019-11-27T00:00:00+08:00, 三民區 temperature is 22 攝氏度\n2019-11-27T00:00:00+08:00, 新興區 temperature is 23 攝氏度\n2019-11-27T00:00:00+08:00, 前金區 temperature is 23 攝氏度\n2019-11-27T00:00:00+08:00, 苓雅區 temperature is 23 攝氏度\n2019-11-27T00:00:00+08:00, 前鎮區 temperature is 23 攝氏度\n2019-11-27T00:00:00+08:00, 旗津區 temperature is 22 攝氏度\n2019-11-27T00:00:00+08:00, 小港區 temperature is 23 攝氏度\n2019-11-27T00:00:00+08:00, 鳳山區 temperature is 22 攝氏度\n2019-11-27T00:00:00+08:00, 林園區 temperature is 23 攝氏度\n2019-11-27T00:00:00+08:00, 大寮區 temperature is 22 攝氏度\n2019-11-27T00:00:00+08:00, 大樹區 temperature is 21 攝氏度\n2019-11-27T00:00:00+08:00, 大社區 temperature is 21 攝氏度\n2019-11-27T00:00:00+08:00, 仁武區 temperature is 21 攝氏度\n2019-11-27T00:00:00+08:00, 鳥松區 temperature is 21 攝氏度\n2019-11-27T00:00:00+08:00, 岡山區 temperature is 21 攝氏度\n2019-11-27T00:00:00+08:00, 橋頭區 temperature is 22 攝氏度\n2019-11-27T00:00:00+08:00, 燕巢區 temperature is 21 攝氏度\n2019-11-27T00:00:00+08:00, 田寮區 temperature is 20 攝氏度\n2019-11-27T00:00:00+08:00, 阿蓮區 temperature is 20 攝氏度\n2019-11-27T00:00:00+08:00, 路竹區 temperature is 21 攝氏度\n2019-11-27T00:00:00+08:00, 湖內區 temperature is 21 攝氏度\n2019-11-27T00:00:00+08:00, 茄萣區 temperature is 21 攝氏度\n2019-11-27T00:00:00+08:00, 永安區 temperature is 21 攝氏度\n2019-11-27T00:00:00+08:00, 彌陀區 temperature is 21 攝氏度\n2019-11-27T00:00:00+08:00, 梓官區 temperature is 21 攝氏度\n2019-11-27T00:00:00+08:00, 旗山區 temperature is 20 攝氏度\n2019-11-27T00:00:00+08:00, 美濃區 temperature is 21 攝氏度\n2019-11-27T00:00:00+08:00, 六龜區 temperature is 20 攝氏度\n2019-11-27T00:00:00+08:00, 甲仙區 temperature is 18 攝氏度\n2019-11-27T00:00:00+08:00, 杉林區 temperature is 21 攝氏度\n2019-11-27T00:00:00+08:00, 內門區 temperature is 19 攝氏度\n2019-11-27T00:00:00+08:00, 茂林區 temperature is 19 攝氏度\n2019-11-27T00:00:00+08:00, 桃源區 temperature is 18 攝氏度\n2019-11-27T00:00:00+08:00, 那瑪夏區 temperature is 17 攝氏度\n"
    }
   ],
   "source": [
    "# 2. 請取出每一個地區所記錄的第一個時間點跟溫度\n",
    "for location in locations:\n",
    "    for weather in location['weatherElement']:\n",
    "        if weather['description'] == '溫度':\n",
    "            for time in weather['time']:\n",
    "                print('{}, {} temperature is {} {}'.format(time['dataTime'], location['locationName'], time['elementValue']['value'], \\\n",
    "                        time['elementValue']['measures']))\n",
    "                break"
   ]
  },
  {
   "cell_type": "code",
   "execution_count": 48,
   "metadata": {},
   "outputs": [
    {
     "name": "stdout",
     "output_type": "stream",
     "text": "2019-11-27T00:00:00+08:00, 鹽埕區 temperature is 23 攝氏度\n2019-11-27T03:00:00+08:00, 鹽埕區 temperature is 22 攝氏度\n2019-11-27T06:00:00+08:00, 鹽埕區 temperature is 21 攝氏度\n2019-11-27T09:00:00+08:00, 鹽埕區 temperature is 24 攝氏度\n2019-11-27T12:00:00+08:00, 鹽埕區 temperature is 28 攝氏度\n2019-11-27T15:00:00+08:00, 鹽埕區 temperature is 28 攝氏度\n2019-11-27T18:00:00+08:00, 鹽埕區 temperature is 25 攝氏度\n2019-11-27T21:00:00+08:00, 鹽埕區 temperature is 23 攝氏度\n2019-11-28T00:00:00+08:00, 鹽埕區 temperature is 22 攝氏度\n2019-11-28T03:00:00+08:00, 鹽埕區 temperature is 21 攝氏度\n2019-11-28T06:00:00+08:00, 鹽埕區 temperature is 20 攝氏度\n2019-11-28T09:00:00+08:00, 鹽埕區 temperature is 23 攝氏度\n2019-11-28T12:00:00+08:00, 鹽埕區 temperature is 26 攝氏度\n2019-11-28T15:00:00+08:00, 鹽埕區 temperature is 26 攝氏度\n2019-11-28T18:00:00+08:00, 鹽埕區 temperature is 24 攝氏度\n2019-11-28T21:00:00+08:00, 鹽埕區 temperature is 22 攝氏度\n2019-11-29T00:00:00+08:00, 鹽埕區 temperature is 21 攝氏度\n2019-11-29T03:00:00+08:00, 鹽埕區 temperature is 20 攝氏度\n2019-11-29T06:00:00+08:00, 鹽埕區 temperature is 19 攝氏度\n2019-11-29T09:00:00+08:00, 鹽埕區 temperature is 21 攝氏度\n2019-11-29T12:00:00+08:00, 鹽埕區 temperature is 24 攝氏度\n2019-11-29T15:00:00+08:00, 鹽埕區 temperature is 24 攝氏度\n2019-11-29T18:00:00+08:00, 鹽埕區 temperature is 23 攝氏度\n2019-11-29T21:00:00+08:00, 鹽埕區 temperature is 22 攝氏度\n"
    }
   ],
   "source": [
    "# 3. 請取出第一個地區所記錄的每一個時間點跟溫度\n",
    "\n",
    "for weather in locations[0]['weatherElement']:\n",
    "    if weather['description'] == '溫度':\n",
    "        for time in weather['time']:\n",
    "            print('{}, {} temperature is {} {}'.format(time['dataTime'], locations[0]['locationName'], time['elementValue']['value'], \\\n",
    "                    time['elementValue']['measures']))"
   ]
  },
  {
   "cell_type": "code",
   "execution_count": null,
   "metadata": {},
   "outputs": [],
   "source": []
  }
 ],
 "metadata": {
  "kernelspec": {
   "display_name": "Python 3",
   "language": "python",
   "name": "python3"
  },
  "language_info": {
   "codemirror_mode": {
    "name": "ipython",
    "version": 3
   },
   "file_extension": ".py",
   "mimetype": "text/x-python",
   "name": "python",
   "nbconvert_exporter": "python",
   "pygments_lexer": "ipython3",
   "version": "3.6.3"
  }
 },
 "nbformat": 4,
 "nbformat_minor": 2
}