{
 "cells": [
  {
   "cell_type": "markdown",
   "metadata": {},
   "source": [
    "# API 資料串接 - 以 Dcard API 實作範例\n",
    "\n",
    "* 了解 Dcard API 使用方式與回傳內容\n",
    "* 撰寫程式存取 API 且解析 JSON 格式資料\n"
   ]
  },
  {
   "cell_type": "markdown",
   "metadata": {},
   "source": [
    "## 作業目標\n",
    "\n",
    "* 請利用 API: https://www.dcard.tw/_api/forums/pet/posts?popular=true 回答下列問題：\n",
    "\n",
    "1. 這個 API 一次會回傳幾筆資料？每一筆資料包含哪些欄位？\n",
    "2. 取出每一筆資料的「標題」、「貼文時間」、「留言人數」、「按讚人數」\n",
    "3. 計算熱門/非熱門文章的「平均留言人數」與「平均按讚人數」"
   ]
  },
  {
   "cell_type": "code",
   "execution_count": 56,
   "metadata": {},
   "outputs": [
    {
     "name": "stdout",
     "output_type": "stream",
     "text": "Return 30 pieces of data\nCategory_1: id\nCategory_2: title\nCategory_3: excerpt\nCategory_4: anonymousSchool\nCategory_5: anonymousDepartment\nCategory_6: pinned\nCategory_7: forumId\nCategory_8: replyId\nCategory_9: createdAt\nCategory_10: updatedAt\nCategory_11: commentCount\nCategory_12: likeCount\nCategory_13: withNickname\nCategory_14: tags\nCategory_15: topics\nCategory_16: meta\nCategory_17: forumName\nCategory_18: forumAlias\nCategory_19: gender\nCategory_20: school\nCategory_21: replyTitle\nCategory_22: mediaMeta\nCategory_23: reactions\nCategory_24: hidden\nCategory_25: customStyle\nCategory_26: isSuspiciousAccount\nCategory_27: layout\nCategory_28: withImages\nCategory_29: withVideos\nCategory_30: media\nCategory_31: reportReasonText\nCategory_32: postAvatar\n"
    }
   ],
   "source": [
    "# 1. 這個 API 一次會回傳幾筆資料？每一筆資料包含哪些欄位？\n",
    "import requests\n",
    "import json\n",
    "\n",
    "r = requests.get('https://www.dcard.tw/_api/forums/pet/posts?popular=true')\n",
    "js = json.loads(r.text)\n",
    "print('Return {} pieces of data'.format(len(js)))\n",
    "count = 1\n",
    "for category in js[0]:\n",
    "    print('Category_{}: {}'.format(count, category))\n",
    "    count += 1\n"
   ]
  },
  {
   "cell_type": "code",
   "execution_count": 58,
   "metadata": {},
   "outputs": [
    {
     "name": "stdout",
     "output_type": "stream",
     "text": "Data1: title = 好像買太小了...\nData1: createdAt = 2019-12-01T08:27:28.504Z\nData1: commentCount = 76\nData1: likeCount = 7823\nData2: title = 更* 我養的是工讀生？🤔\nData2: createdAt = 2019-12-01T02:07:09.729Z\nData2: commentCount = 37\nData2: likeCount = 1336\nData3: title = 貓咪沒在尊重男友\nData3: createdAt = 2019-12-01T10:44:13.896Z\nData3: commentCount = 18\nData3: likeCount = 483\nData4: title = 散步好夥伴🐶漆黑寒冷的夜晚也找得到便便💩\nData4: createdAt = 2019-12-02T02:51:47.393Z\nData4: commentCount = 0\nData4: likeCount = 301\nData5: title = 可以幫幫我推上熱門嗎急尋狗啟示\nData5: createdAt = 2019-12-01T17:56:16.299Z\nData5: commentCount = 1\nData5: likeCount = 195\nData6: title = #圖多 可愛喵喵們(⁎⁍̴̛ᴗ⁍̴̛⁎)\nData6: createdAt = 2019-12-01T08:44:25.791Z\nData6: commentCount = 3\nData6: likeCount = 120\nData7: title = 如果當初這樣做 或許結局就能不同了吧\nData7: createdAt = 2019-12-01T00:49:18.221Z\nData7: commentCount = 0\nData7: likeCount = 77\nData8: title = 餵養的浪貓得了乳腺瘤\nData8: createdAt = 2019-12-02T05:29:49.540Z\nData8: commentCount = 2\nData8: likeCount = 37\nData9: title = #貓 擁有狗靈魂的貓\nData9: createdAt = 2019-12-01T11:43:58.401Z\nData9: commentCount = 4\nData9: likeCount = 37\nData10: title = 兔兔的睡姿⋯⋯\nData10: createdAt = 2019-12-01T09:01:55.400Z\nData10: commentCount = 5\nData10: likeCount = 32\nData11: title = 有這麼不爽嗎(･ัω･ั)\nData11: createdAt = 2019-12-02T08:31:17.626Z\nData11: commentCount = 5\nData11: likeCount = 31\nData12: title = 寵物過世碰到的外套\nData12: createdAt = 2019-12-01T09:23:54.879Z\nData12: commentCount = 3\nData12: likeCount = 27\nData13: title = 我養了三隻蟲？🐛\nData13: createdAt = 2019-12-01T12:17:06.699Z\nData13: commentCount = 1\nData13: likeCount = 26\nData14: title = 我在日本養了一隻貓(圖多\nData14: createdAt = 2019-12-02T02:38:35.799Z\nData14: commentCount = 1\nData14: likeCount = 25\nData15: title = 來嘛~~來吸我啊~\nData15: createdAt = 2019-12-01T11:56:53.031Z\nData15: commentCount = 7\nData15: likeCount = 24\nData16: title = 我家的紅貴賓到底是不是人轉世？\nData16: createdAt = 2019-12-01T06:13:52.856Z\nData16: commentCount = 5\nData16: likeCount = 24\nData17: title = 送養\nData17: createdAt = 2019-12-02T02:36:37.309Z\nData17: commentCount = 1\nData17: likeCount = 20\nData18: title = 基隆瑞芳深澳坑走失協找 拜託❗️❗️\nData18: createdAt = 2019-12-01T12:22:04.478Z\nData18: commentCount = 2\nData18: likeCount = 19\nData19: title = 我家的老阿公\nData19: createdAt = 2019-12-02T06:22:36.958Z\nData19: commentCount = 1\nData19: likeCount = 17\nData20: title = 你有看過這隻狗嗎？\nData20: createdAt = 2019-12-01T20:33:16.869Z\nData20: commentCount = 2\nData20: likeCount = 16\nData21: title = #急#刺蝟\nData21: createdAt = 2019-12-02T05:06:34.886Z\nData21: commentCount = 8\nData21: likeCount = 15\nData22: title = 是我太髒嗎?\nData22: createdAt = 2019-12-02T09:16:23.658Z\nData22: commentCount = 3\nData22: likeCount = 14\nData23: title = 吉娃娃才不吉敗咧\nData23: createdAt = 2019-12-01T09:17:16.567Z\nData23: commentCount = 7\nData23: likeCount = 14\nData24: title = 淘寶寵物用品開箱&心得📦🐱\nData24: createdAt = 2019-12-01T06:19:59.473Z\nData24: commentCount = 9\nData24: likeCount = 14\nData25: title = 中壢/米克斯狗女兒走失\nData25: createdAt = 2019-12-01T10:58:09.738Z\nData25: commentCount = 0\nData25: likeCount = 13\nData26: title = 睡到投降的傻布偶小貓\nData26: createdAt = 2019-12-01T02:10:49.971Z\nData26: commentCount = 1\nData26: likeCount = 12\nData27: title = 若要抱貓，必先成貓\nData27: createdAt = 2019-12-02T05:44:06.710Z\nData27: commentCount = 0\nData27: likeCount = 11\nData28: title = #圖 板橋貓咪走失\nData28: createdAt = 2019-12-02T03:50:17.266Z\nData28: commentCount = 3\nData28: likeCount = 11\nData29: title = #協尋 玄鳳鸚鵡（已找到愛鳥 謝謝大家 謝謝好心人）\nData29: createdAt = 2019-12-01T05:33:55.211Z\nData29: commentCount = 2\nData29: likeCount = 11\nData30: title = 我家曠世怨婦🐱\nData30: createdAt = 2019-12-02T06:56:01.120Z\nData30: commentCount = 0\nData30: likeCount = 10\n"
    }
   ],
   "source": [
    "# 2. 取出每一筆資料的「標題」、「貼文時間」、「留言人數」、「按讚人數」\n",
    "count = 1\n",
    "for data in js:\n",
    "    for category, content in data.items():\n",
    "        if not category == 'title' and not category == 'createdAt' and not category == 'commentCount' and not category == 'likeCount':\n",
    "            continue\n",
    "        print('Data{}: {} = {}'.format(count, category, content))\n",
    "    count += 1"
   ]
  },
  {
   "cell_type": "code",
   "execution_count": 66,
   "metadata": {},
   "outputs": [
    {
     "ename": "SyntaxError",
     "evalue": "unexpected EOF while parsing (<ipython-input-66-42f9ba999ffd>, line 17)",
     "output_type": "error",
     "traceback": [
      "\u001b[1;36m  File \u001b[1;32m\"<ipython-input-66-42f9ba999ffd>\"\u001b[1;36m, line \u001b[1;32m17\u001b[0m\n\u001b[1;33m    print('Average like count in non-popular is {}'.format(round(likeCnt_nor/len(r_nor), 0))\u001b[0m\n\u001b[1;37m                                                                                            ^\u001b[0m\n\u001b[1;31mSyntaxError\u001b[0m\u001b[1;31m:\u001b[0m unexpected EOF while parsing\n"
     ]
    }
   ],
   "source": [
    "# 3. 計算熱門/非熱門文章的「平均留言人數」與「平均按讚人數」\n",
    "\n",
    "r_pop = requests.get('https://www.dcard.tw/_api/forums/pet/posts?popular=true').json()\n",
    "r_nor = requests.get('https://www.dcard.tw/_api/forums/pet/posts?popular=false').json()\n",
    "replyCnt_pop = 0\n",
    "replyCnt_nor = 0\n",
    "likeCnt_pop = 0\n",
    "likeCnt_nor = 0\n",
    "for d1, d2 in zip(r_pop, r_nor):\n",
    "    replyCnt_pop += d1['commentCount']\n",
    "    replyCnt_nor += d2['commentCount']\n",
    "    likeCnt_pop += d1['likeCount']\n",
    "    likeCnt_nor += d2['likeCount']\n",
    "print('Average commnet count in popular is {}'.format(round(replyCnt_pop/len(r_pop)), 0))\n",
    "print('Average like count in popular is {}'.format(round(likeCnt_pop/len(r_pop)), 0))\n",
    "print('Average commnet count in non-popular is {}'.format(round(replyCnt_nor/len(r_nor)), 0))\n",
    "print('Average like count in non-popular is {}'.format(round(likeCnt_nor/len(r_nor)), 0))"
   ]
  },
  {
   "cell_type": "code",
   "execution_count": null,
   "metadata": {},
   "outputs": [],
   "source": []
  },
  {
   "cell_type": "code",
   "execution_count": null,
   "metadata": {},
   "outputs": [],
   "source": []
  }
 ],
 "metadata": {
  "kernelspec": {
   "display_name": "Python 3",
   "language": "python",
   "name": "python3"
  },
  "language_info": {
   "codemirror_mode": {
    "name": "ipython",
    "version": 3
   },
   "file_extension": ".py",
   "mimetype": "text/x-python",
   "name": "python",
   "nbconvert_exporter": "python",
   "pygments_lexer": "ipython3",
   "version": "3.6.3"
  }
 },
 "nbformat": 4,
 "nbformat_minor": 2
}