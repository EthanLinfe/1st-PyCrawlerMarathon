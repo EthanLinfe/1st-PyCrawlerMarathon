{
 "cells": [
  {
   "cell_type": "markdown",
   "metadata": {},
   "source": [
    "# 靜態網頁的資料爬蟲策略\n",
    "\n",
    "\n",
    "* 了解靜態網頁的資料爬蟲策略\n",
    "* 認識適用於靜態網頁爬蟲的相關套件工具：Request\n",
    "* 認識適用於靜態網頁爬蟲的相關套件工具：BeatifulSoup"
   ]
  },
  {
   "cell_type": "markdown",
   "metadata": {},
   "source": [
    "## 作業目標\n",
    "\n",
    "利用 Request + BeatifulSoup 爬取下列兩個網站內容並解析：\n",
    "\n",
    "1. Dcared 網址： https://www.dcard.tw/f\n",
    "2. 知乎： https://www.zhihu.com/explore\n",
    "\n",
    "並且回答下面問題：\n",
    "\n",
    "1. Request 取回之後該怎麼取出資料，資料型態是什麼？\n",
    "2. 為什麼要使用 BeatifulSoup 處理？處理後的型態是什麼？\n",
    "3. 觀察一下知乎回來的資料好像有點怪怪的，該怎麼解決？"
   ]
  },
  {
   "cell_type": "markdown",
   "metadata": {},
   "source": [
    "### 1. Dcard 網址： https://www.dcard.tw/f"
   ]
  },
  {
   "cell_type": "code",
   "execution_count": 3,
   "metadata": {},
   "outputs": [],
   "source": [
    "import requests\n",
    "from bs4 import BeautifulSoup\n"
   ]
  },
  {
   "cell_type": "code",
   "execution_count": 9,
   "metadata": {},
   "outputs": [
    {
     "name": "stdout",
     "output_type": "stream",
     "text": "<!DOCTYPE html><html lang=\"zh-Hant-TW\"><head prefix=\"og: http://ogp.me/ns#\" itemscope=\"\" itemType=\"https://schema.org/WebSite\"><title data-react-helmet=\"true\">Dcard</title><meta data-react-helmet=\"true\" property=\"og:image\" content=\"https://www.dcard.tw/build/landing-c9e7b8fb.png\"/><meta data-react-helmet=\"true\" property=\"og:image:secure_url\" content=\"https://www.dcard.tw/build/landing-c9e7b8fb.png\"/><meta data-react-helmet=\"true\" charSet=\"utf-8\"/><meta data-react-helmet=\"true\" http-equiv=\"X-UA-Compatible\" content=\"IE=edge\"/><meta data-react-helmet=\"true\" name=\"application-name\" content=\"Dcard\"/><meta data-react-helmet=\"true\" name=\"apple-itunes-app\" content=\"app-id=951353454\"/><meta data-react-helmet=\"true\" name=\"theme-color\" content=\"#006aa6\"/><meta data-react-helmet=\"true\" name=\"mobile-web-app-capable\" content=\"yes\"/><meta data-react-helmet=\"true\" name=\"apple-mobile-web-app-capable\" content=\"yes\"/><meta data-react-helmet=\"true\" property=\"fb:app_id\" content=\"211628828926493\"/><meta data-react-helmet=\"true\" property=\"fb:pages\" content=\"178875832200695,577748865730563,1333515469994506,619122564952487,804004803032067,178024805867764\"/><meta data-react-helmet=\"true\" property=\"al:ios:app_store_id\" content=\"951353454\"/><meta data-react-helmet=\"true\" property=\"al:ios:app_name\" content=\"Dcard\"/><meta data-react-helmet=\"true\" property=\"al:android:package\" content=\"com.sparkslab.dcardreader\"/><meta data-react-helmet=\"true\" property=\"al:android:app_name\" content=\"Dcard\"/><meta data-react-helmet=\"true\" property=\"og:type\" content=\"website\"/><meta data-react-helmet=\"true\" property=\"og:site_name\" content=\"Dcard\"/><meta data-react-helmet=\"true\" property=\"og:title\" content=\"Dcard\"/><meta data-react-helmet=\"true\" property=\"og:url\" content=\"https://www.dcard.tw/f\"/><meta data-react-helmet=\"true\" name=\"description\" content=\"廣受年輕人喜愛的  Dcard  是台灣最大的匿名交流平台，舉凡時事話題、感情心情、吃喝玩樂、學習工作等，都有卡友陪你聊！\"/><meta data-react-helmet=\"true\" property=\"og:description\" content=\"廣受年輕人喜愛的  Dcard  是台灣最大的匿名交流平台，舉凡時事話題、感情心情、吃喝玩樂、學習工作等，都有卡友陪你聊！\"/><meta data-react-helmet=\"true\" property=\"al:ios:url\" content=\"dcard://category/all/全部/hot\"/><meta data-react-helmet=\"true\" property=\"al:android:url\" content=\"dcard://category/all/全部/hot\"/><link data-react-helmet=\"true\" rel=\"icon\" sizes=\"32x32\" type=\"image/png\" href=\"/build/favicon_32-44259074.png\"/><link data-react-helmet=\"true\" rel=\"icon\" sizes=\"72x72\" type=\"image/png\" href=\"/build/favicon_72-45b1e0ba.png\"/><link data-react-helmet=\"true\" rel=\"icon\" sizes=\"512x512\" type=\"image/png\" href=\"/build/favicon_512-8aee0703.png\"/><link data-react-helmet=\"true\" rel=\"apple-touch-icon-precomposed\" href=\"/build/favicon_144-79557003.png\"/><link data-react-helmet=\"true\" rel=\"apple-touch-icon-precomposed\" href=\"/build/favicon_114-4a463b43.png\"/><link data-react-helmet=\"true\" rel=\"apple-touch-icon-precomposed\" href=\"/build/favicon_72-45b1e0ba.png\"/><link data-react-helmet=\"true\" rel=\"apple-touch-icon-precomposed\" href=\"/build/favicon_57-835f1693.png\"/><link data-react-helm\n"
    }
   ],
   "source": [
    "url = 'https://www.dcard.tw/f'\n",
    "\n",
    "r = requests.get(url)\n",
    "r.encoding = 'utf-8'\n",
    "print(r.text[0:3000])"
   ]
  },
  {
   "cell_type": "code",
   "execution_count": 14,
   "metadata": {},
   "outputs": [
    {
     "name": "stdout",
     "output_type": "stream",
     "text": "Request 取回之後該怎麼取出資料，資料型態是什麼？ =>\n取出來之後是字串, 可以再用bs4轉成字典型態取出想要的資料\n"
    }
   ],
   "source": [
    "print('Request 取回之後該怎麼取出資料，資料型態是什麼？ =>')\n",
    "print('取出來之後是字串, 可以再用bs4轉成字典型態取出想要的資料')\n"
   ]
  },
  {
   "cell_type": "code",
   "execution_count": 15,
   "metadata": {},
   "outputs": [
    {
     "name": "stdout",
     "output_type": "stream",
     "text": "為什麼要使用 BeatifulSoup 處理？處理後的型態是什麼？ => \n因為原先是字串資料, 難以取出想要的資料, 可以用bs4轉成字典, 再根據關鍵字取出想要的資料\n"
    },
    {
     "data": {
      "text/plain": "4729-9fde-c588920c6c2d\",\"count\":5}],\"forumName\":\"有趣\",\"replyTitle\":null,\"updatedAt\":\"2019-12-06T09:44:18.357Z\",\"forumAlias\":\"funny\",\"commentCount\":42,\"department\":\"ec_firemaker\",\"withNickname\":true,\"school\":\"好物縱火販\",\"title\":\"好物研究室年終感謝祭🎉 乾爹乾媽我愛你❤️ヾ(´ε`ヾ)\",\"likeCount\":1526,\"pinned\":false,\"tags\":[],\"postAvatar\":\"\",\"id\":232635767,\"createdAt\":\"2019-12-06T07:00:21.262Z\",\"globalPinned\":null,\"forumId\":\"a1aaa6e6-2594-4968-b7dc-e1b14bea96f4\",\"withImages\":true,\"withVideos\":false,\"anonymousDepartment\":false},{\"customStyle\":null,\"excerpt\":\"更 再多奉送一張 在 B25，＿＿＿＿＿＿＿＿＿＿＿＿＿＿＿＿＿＿＿＿，讓我們看看偉大的謝和弦，如何高EQ的回應網友的批評？真的是個屁孩無誤，我曾經聽過一句話：「我們每個人都會長大，但不是每個人都會變\",\"anonymousSchool\":false,\"gender\":\"M\",\"topics\":[\"和弦\"],\"media\":[{\"url\":\"https:\\u002F\\u002Fi.imgur.com\\u002FkFs6ksP.jpg\"},{\"url\":\"https:\\u002F\\u002Fi.imgur.com\\u002FAetTFMN.jpg\"},{\"url\":\"https:\\u002F\\u002Fi.imgur.com\\u002FbjhfQCY.jpg\"},{\"url\":\"https:\\u002F\\u002Fi.imgur.com\\u002FChLDJND.jpg\"}],\"replyId\":null,\"reportReasonText\":\"\",\"meta\":{\"layout\":\"classic\"},\"isSuspiciousAccount\":false,\"mediaMeta\":[{\"id\":\"05892f4c-669f-4b35-b84c-1b80bf1e4f3b\",\"url\":\"https:\\u002F\\u002Fi.imgur.com\\u002FkFs6ksPl.jpg\",\"normalizedUrl\":\"https:\\u002F\\u002Fi.imgur.com\\u002FkFs6ksPl.jpg\",\"thumbnail\":\"https:\\u002F\\u002Fi.imgur.com\\u002FkFs6ksPl.jpg\",\"type\":\"image\\u002Fthumbnail\",\"tags\":[\"ANNOTATED\"],\"createdAt\":\"2019-12-07T04:09:27.588Z\",\"updatedAt\":\"2019-12-07T14:35:07.808Z\"},{\"id\":\"05892f4c-669f-4b35-b84c-1b80bf1e4f3b\",\"url\":\"https:\\u002F\\u002Fi.imgur.com\\u002FkFs6ksP.jpg\",\"normalizedUrl\":\"https:\\u002F\\u002Fimgur.com\\u002FkFs6ksP\",\"thumbnail\":\"https:\\u002F\\u002Fi.imgur.com\\u002FkFs6ksPl.jpg\",\"type\":\"image\\u002Fimgur\",\"tags\":[\"ANNOTATED\"],\"createdAt\":\"2019-12-07T04:09:27.588Z\",\"updatedAt\":\"2019-12-07T14:35:07.808Z\"},{\"id\":\"0bdfe9b7-9af5-434b-8763-3d91b3489a80\",\"url\":\"https:\\u002F\\u002Fi.imgur.com\\u002FAetTFMN.jpg\",\"normalizedUrl\":\"https:\\u002F\\u002Fimgur.com\\u002FAetTFMN\",\"thumbnail\":\"https:\\u002F\\u002Fi.imgur.com\\u002FAetTFMNl.jpg\",\"type\":\"image\\u002Fimgur\",\"tags\":[\"ANNOTATED\"],\"createdAt\":\"2019-12-07T04:09:27.588Z\",\"updatedAt\":\"2019-12-07T14:35:07.808Z\"},{\"id\":\"c508f67b-4396-4a50-a8e6-72c159666ed2\",\"url\":\"https:\\u002F\\u002Fi.imgur.com\\u002FbjhfQCY.jpg\",\"normalizedUrl\":\"https:\\u002F\\u002Fimgur.com\\u002FbjhfQCY\",\"thumbnail\":\"https:\\u002F\\u002Fi.imgur.com\\u002FbjhfQCYl.jpg\",\"type\":\"image\\u002Fimgur\",\"tags\":[\"ANNOTATED\"],\"createdAt\":\"2019-12-07T04:09:27.588Z\",\"updatedAt\":\"2019-12-07T14:35:07.808Z\"},{\"id\":\"ee27e292-8371-4422-a027-b39a69cdf596\",\"url\":\"https:\\u002F\\u002Fi.imgur.com\\u002FChLDJND.jpg\",\"normalizedUrl\":\"https:\\u002F\\u002Fimgur.com\\u002FChLDJND\",\"thumbnail\":\"https:\\u002F\\u002Fi.imgur.com\\u002FChLDJNDl.jpg\",\"type\":\"image\\u002Fimgur\",\"tags\":[\"ANNOTATED\"],\"createdAt\":\"2019-12-07T04:09:27.588Z\",\"updatedAt\":\"2019-12-07T14:35:07.808Z\"}],\"hidden\":false,\"layout\":\"classic\",\"reactions\":[{\"id\":\"286f599c-f86a-4932-82f0-f5a06f1eca03\",\"count\":1397},{\"id\":\"aa0d425f-d530-4478-9a77-fe3aedc79eea\",\"count\":106},{\"id\":\"4b018f48-e184-445f-adf1-fc8e04ba09b9\",\"count\":10},{\"id\":\"514c2569-fd53-4d9d-a415-bf0f88e7329f\",\"count\":4},{\"id\":\"e8e6bc5d-41b0-4129-b134-97507523d7ff\",\"count\":4}],\"forumName\":\"追星\",\"replyTitle\":null,\"updatedAt\":\"2019-12-07T14:35:07.808Z\",\"forumAlias\":\"entertainer\",\"commentCount\":103,\"department\":\"tsbluhyhgbj89.\",\"withNickname\":true,\"school\":\"你好\",\"title\":\"謝和弦，你的家教真棒\",\"likeCount\":1521,\"pinned\":false,\"tags\":[],\"postAvatar\":\"\",\"id\":232640776,\"createdAt\":\"2019-12-07T04:09:27.588Z\",\"globalPinned\":null,\"forumId\":\"14f573f5-3f02-4821-8e18-f561d7b7db91\",\"withImages\":true,\"withVideos\":false,\"anonymousDepartment\":false},{\"customStyle\":null,\"excerpt\":\"前情提要：損友間口耳相傳的一個都市傳說，帶著心儀對象去板橋的耶誕城，如果感覺跟時間對了大膽告白，在耶誕城的加持下，成功脫魯的機率相當的高。---分隔線--，好的，在信任以上的都市傳說，以及身邊有多位朋\",\"anonymousSchool\":false,\"gender\":\"M\",\"topics\":[\"耶誕城\",\"新北\",\"聖誕節\",\"新北耶誕城\",\"脫魯\"],\"media\":[{\"url\":\"http:\\u002F\\u002Fi.imgur.com\\u002FZgKsZKj.jpg\"}],\"replyId\":null,\"reportReasonText\":\"\",\"meta\":{\"layout\":\"classic\"},\"isSuspiciousAccount\":false,\"mediaMeta\":[{\"id\":\"d38182ab-4075-4edb-a28e-b807ff0547ff\",\"url\":\"https:\\u002F\\u002Fi.imgur.com\\u002FZgKsZKjl.jpg\",\"normalizedUrl\":\"https:\\u002F\\u002Fi.imgur.com\\u002FZgKsZKjl.jpg\",\"thumbnail\":\"https:\\u002F\\u002Fi.imgur.com\\u002FZgKsZKjl.jpg\",\"type\":\"image\\u002Fthumbnail\",\"tags\":[\"ANNOTATED\"],\"createdAt\":\"2019-12-06T14:04:27.707Z\",\"updatedAt\":\"2019-12-06T14:04:27.707Z\"},{\"id\":\"d38182ab-4075-4edb-a28e-b807ff0547ff\",\"url\":\"http:\\u002F\\u002Fi.imgur.com\\u002FZgKsZKj.jpg\",\"normalizedUrl\":\"https:\\u002F\\u002Fimgur.com\\u002FZgKsZKj\",\"thumbnail\":\"https:\\u002F\\u002Fi.imgur.com\\u002FZgKsZKjl.jpg\",\"type\":\"image\\u002Fimgur\",\"tags\":[\"ANNOTATED\"],\"createdAt\":\"2019-12-06T14:04:27.707Z\",\"updatedAt\":\"2019-12-06T14:04:27.707Z\"}],\"hidden\":false,\"layout\":\"classic\",\"reactions\":[{\"id\":\"286f599c-f86a-4932-82f0-f5a06f1eca03\",\"count\":1463},{\"id\":\"e8e6bc5d-41b0-4129-b134-97507523d7ff\",\"count\":19},{\"id\":\"514c2569-fd53-4d9d-a415-bf0f88e7329f\",\"count\":10},{\"id\":\"4b018f48-e184-445f-adf1-fc8e04ba09b9\",\"count\":3},{\"id\":\"aa0d425f-d530-4478-9a77-fe3aedc79eea\",\"count\":3}],\"forumName\":\"聖誕CiaoCiao\",\"replyTitle\":null,\"updatedAt\":\"2019-12-06T14:04:27.707Z\",\"forumAlias\":\"merryxmas\",\"commentCount\":56,\"department\":\"hotdog911\",\"withNickname\":true,\"school\":\"Hotdog\",\"title\":\"讚嘆新北耶誕城！我脫魯囉！\",\"likeCount\":1498,\"pinned\":false,\"tags\":[],\"postAvatar\":\"\",\"id\":232638204,\"createdAt\":\"2019-12-06T14:04:27.707Z\",\"globalPinned\":null,\"forumId\":\"11e8d941-0aad-4960-8348-b27c36270fd1\",\"withImages\":true,\"withVideos\":false,\"anonymousDepartment\":false},{\"customStyle\":null,\"excerpt\":\"從沒在追星版發過文 多虧X時電子報娛樂版 看到這種惡質標題我還真是忍無可忍了！，我家女神有名有姓 她叫Krystal 本名鄭秀晶，明明正著念是鄭秀晶 倒著念也是鄭秀晶，偏偏要用雪莉前隊友稱呼她到底什麼\",\"anonymousSchool\":false,\"gender\":\"F\",\"topics\":[\"fx函數\",\"krystal\",\"鄭秀晶\"],\"media\":[{\"url\":\"https:\\u002F\\u002Fi.imgur.com\\u002FfzDFQFD.jpg\"},{\"url\":\"https:\\u002F\\u002Fi.imgur.com\\u002FbOH3aiE.jpg\"}],\"replyId\":null,\"reportReasonText\":\"\",\"meta\":{\"layout\":\"classic\"},\"isSuspiciousAccount\":false,\"mediaMeta\":[{\"id\":\"9eab7ace-f75b-4790-aa8d-0a9c8a2ea34d\",\"url\":\"https:\\u002F\\u002Fi.imgur.com\\u002FfzDFQFDl.jpg\",\"normalizedUrl\":\"https:\\u002F\\u002Fi.imgur.com\\u002FfzDFQFDl.jpg\",\"thumbnail\":\"https:\\u002F\\u002Fi.imgur.com\\u002FfzDFQFDl.jpg\",\"type\":\"image\\u002Fthumbnail\",\"tags\":[\"ANNOTATED\"],\"createdAt\":\"2019-12-06T15:39:30.118Z\",\"updatedAt\":\"2019-12-06T15:40:05.570Z\"},{\"id\":\"9eab7ace-f75b-4790-aa8d-0a9c8a2ea34d\",\"url\":\"https:\\u002F\\u002Fi.imgur.com\\u002FfzDFQFD.jpg\",\"normalizedUrl\":\"https:\\u002F\\u002Fimgur.com\\u002FfzDFQFD\",\"thumbnail\":\"https:\\u002F\\u002Fi.imgur.com\\u002FfzDFQFDl.jpg\",\"type\":\"image\\u002Fimgur\",\"tags\":[\"ANNOTATED\"],\"createdAt\":\"2019-12-06T15:39:30.118Z\",\"updatedAt\":\"2019-12-06T15:40:05.570Z\"},{\"id\":\"aa82c5d2-42e0-41c3-9762-bf121ec4436c\",\"url\":\"https:\\u002F\\u002Fi.imgur.com\\u002FbOH3aiE.jpg\",\"normalizedUrl\":\"https:\\u002F\\u002Fimgur.com\\u002FbOH3aiE\",\"thumbnail\":\"https:\\u002F\\u002Fi.imgur.com\\u002FbOH3aiEl.jpg\",\"type\":\"image\\u002Fimgur\",\"tags\":[\"ANNOTATED\"],\"createdAt\":\"2019-12-06T15:39:30.118Z\",\"updatedAt\":\"2019-12-06T15:40:05.570Z\"}],\"hidden\":false,\"layout\":\"classic\",\"reactions\":[{\"id\":\"286f599c-f86a-4932-82f0-f5a06f1eca03\",\"count\":1268},{\"id\":\"aa0d425f-d530-4478-9a77-fe3aedc79eea\",\"count\":92},{\"id\":\"514c2569-fd53-4d9d-a415-bf0f88e7329f\",\"count\":4},{\"id\":\"4b018f48-e184-445f-adf1-fc8e04ba09b9\",\"count\":2},{\"id\":\"e8e6bc5d-41b0-4129-b134-97507523d7ff\",\"count\":2}],\"forumName\":\"追星\",\"replyTitle\":null,\"updatedAt\":\"2019-12-06T15:40:05.570Z\",\"forumAlias\":\"entertainer\",\"commentCount\":34,\"department\":\"itmeans.alone\",\"withNickname\":true,\"school\":\"sonder\",\"title\":\"消費前隊友和標題殺人已經不流行了不好意思！\",\"likeCount\":1368,\"pinned\":false,\"tags\":[],\"postAvatar\":\"\",\"id\":232638805,\"createdAt\":\"2019-12-06T15:39:30.118Z\",\"globalPinned\":null,\"forumId\":\"14f573f5-3f02-4821-8e18-f561d7b7db91\",\"withImages\":true,\"withVideos\":false,\"anonymousDepartment\":false},{\"customStyle\":null,\"excerpt\":\"*更，大家真的是想像力太豐富了，不過不會有後續啦哈哈哈哈哈，因為真的太不好意思了所以下禮拜去台北會順路把漫畫還回去，原本心中如意算盤是跟學妹十本十本借借個七遍，但既然漫畫在台北當然就不可能一直借啦哈哈\",\"anonymousSchool\":false,\"gender\":\"F\",\"topics\":[\"傻眼\",\"糗事\",\"無言\"],\"media\":[{\"url\":\"https:\\u002F\\u002Fi.imgur.com\\u002FzbQaU9M.jpg\"},{\"url\":\"https:\\u002F\\u002Fi.imgur.com\\u002FvXJDSxX.jpg\"}],\"replyId\":null,\"reportReasonText\":\"\",\"meta\":{\"layout\":\"classic\"},\"isSuspiciousAccount\":false,\"mediaMeta\":[{\"id\":\"d2af9773-63f6-478b-aaff-d5d7d2534065\",\"url\":\"https:\\u002F\\u002Fi.imgur.com\\u002FzbQaU9Ml.jpg\",\"normalizedUrl\":\"https:\\u002F\\u002Fi.imgur.com\\u002FzbQaU9Ml.jpg\",\"thumbnail\":\"https:\\u002F\\u002Fi.imgur.com\\u002FzbQaU9Ml.jpg\",\"type\":\"image\\u002Fthumbnail\",\"tags\":[\"ANNOTATED\"],\"createdAt\":\"2019-12-06T06:01:22.772Z\",\"updatedAt\":\"2019-12-07T11:31:45.395Z\"},{\"id\":\"d2af9773-63f6-478b-aaff-d5d7d2534065\",\"url\":\"https:\\u002F\\u002Fi.imgur.com\\u002FzbQaU9M.jpg\",\"normalizedUrl\":\"https:\\u002F\\u002Fimgur.com\\u002FzbQaU9M\",\"thumbnail\":\"https:\\u002F\\u002Fi.imgur.com\\u002FzbQaU9Ml.jpg\",\"type\":\"image\\u002Fimgur\",\"tags\":[\"ANNOTATED\"],\"createdAt\":\"2019-12-06T06:01:22.772Z\",\"updatedAt\":\"2019-12-07T11:31:45.395Z\"},{\"id\":\"aa549697-31c2-4a3f-a91a-3c52501fc704\",\"url\":\"https:\\u002F\\u002Fi.imgur.com\\u002FvXJDSxX.jpg\",\"normalizedUrl\":\"https:\\u002F\\u002Fimgur.com\\u002FvXJDSxX\",\"thumbnail\":\"https:\\u002F\\u002Fi.imgur.com\\u002FvXJDSxXl.jpg\",\"type\":\"image\\u002Fimgur\",\"tags\":[\"ANNOTATED\"],\"createdAt\":\"2019-12-06T06:01:22.772Z\",\"updatedAt\":\"2019-12-07T11:31:45.395Z\"}],\"hidden\":false,\"layout\":\"classic\",\"reactions\":[{\"id\":\"286f599c-f86a-4932-82f0-f5a06f1eca03\",\"count\":1160},{\"id\":\"e8e6bc5d-41b0-4129-b134-97507523d7ff\",\"count\":122},{\"id\":\"4b018f48-e184-445f-adf1-fc8e04ba09b9\",\"count\":1}],\"forumName\":\"有趣\",\"replyTitle\":null,\"updatedAt\":\"2019-12-07T11:31:45.395Z\",\"forumAlias\":\"funny\",\"commentCount\":34,\"withNickname\":false,\"school\":\"中原大學\",\"title\":\"跟學妹借漫畫結果……\",\"likeCount\":1283,\"pinned\":false,\"tags\":[],\"postAvatar\":\"\",\"id\":232635444,\"createdAt\":\"2019-12-06T06:01:22.772Z\",\"globalPinned\":null,\"forumId\":\"a1aaa6e6-2594-4968-b7dc-e1b14bea96f4\",\"withImages\":true,\"withVideos\":false,\"anonymousDepartment\":true},{\"customStyle\":null,\"excerpt\":\"這個新聞，所以是說被老婆檢舉不爽就，退老婆ig追蹤 跟其他女生親熱 臉書狀態單身，你是國中生嗎？不是謝的粉絲啦，只是覺得他平常就一副愛老婆的形象，結果全世界傷他老婆最重就是他自己啦 ㄏㄏ\",\"anonymousSchool\":false,\"gender\":\"M\",\"topics\":[\"謝和弦\",\"吸大麻\",\"被逮\",\"哈們\"],\"media\":[],\"replyId\":232638387,\"reportReasonText\":\"\",\"meta\":{\"layout\":\"classic\"},\"isSuspiciousAccount\":false,\"mediaMeta\":[],\"hidden\":false,\"layout\":\"classic\",\"reactions\":[{\"id\":\"286f599c-f86a-4932-82f0-f5a06f1eca03\",\"count\":1080},{\"id\":\"aa0d425f-d530-4478-9a77-fe3aedc79eea\",\"count\":48},{\"id\":\"514c2569-fd53-4d9d-a415-bf0f88e7329f\",\"count\":8},{\"id\":\"4b018f48-e184-445f-adf1-fc8e04ba09b9\",\"count\":4},{\"id\":\"e8e6bc5d-41b0-4129-b134-97507523d7ff\",\"count\":3},{\"id\":\"011ead16-9b83-4729-9fde-c588920c6c2d\",\"count\":1}],\"forumName\":\"追星\",\"replyTitle\":\"(微更)謝和弦遇到麻煩之後有....\",\"updatedAt\":\"2019-12-06T17:09:37.913Z\",\"forumAlias\":\"entertainer\",\"commentCount\":76,\"withNickname\":false,\"school\":\"國立政治大學\",\"title\":\"謝和弦是在哈囉？？\",\"likeCount\":1144,\"pinned\":false,\"tags\":[\"HIDE_THUMBNAIL\"],\"postAvatar\":\"\",\"id\":232639378,\"createdAt\":\"2019-12-06T17:09:37.913Z\",\"globalPinned\":null,\"forumId\":\"14f573f5-3f02-4821-8e18-f561d7b7db91\",\"withImages\":false,\"withVideos\":false,\"anonymousDepartment\":true},{\"customStyle\":null,\"excerpt\":\"就在今天！我們Red Velvet堅持不下去的Wendy終於開通了Instagram，期待我們勝完多多發文，IG名稱真的如我的心情一樣 today is Wendy day！，接下來也跟大家分享其他成\",\"anonymousSchool\":false,\"gender\":\"F\",\"topics\":[\"全員\",\"RedVelvet\",\"追星\"],\"media\":[{\"url\":\"https:\\u002F\\u002Fi.imgur.com\\u002FnZcCkHo.jpg\"},{\"url\":\"https:\\u002F\\u002Fi.imgur.com\\u002FfWdS5WQ.jpg\"},{\"url\":\"https:\\u002F\\u002Fi.imgur.com\\u002FCpUJswd.jpg\"},{\"url\":\"https:\\u002F\\u002Fi.imgur.com\\u002FobpPfbw.jpg\"},{\"url\":\"https:\\u002F\\u002Fi.imgur.com\\u002FXe1ACjY.jpg\"},{\"url\":\"https:\\u002F\\u002Fi.imgur.com\\u002FZUytI1H.jpg\"},{\"url\":\"https:\\u002F\\u002Fi.imgur.com\\u002FaIw0nWT.jpg\"}],\"replyId\":null,\"reportReasonText\":\"\",\"meta\":{\"layout\":\"classic\"},\"isSuspiciousAccount\":false,\"mediaMeta\":[{\"id\":\"89f82324-5f97-4ca5-9e0f-e27d32beb2c7\",\"url\":\"https:\\u002F\\u002Fi.imgur.com\\u002FnZcCkHol.jpg\",\"normalizedUrl\":\"https:\\u002F\\u002Fi.imgur.com\\u002FnZcCkHol.jpg\",\"thumbnail\":\"https:\\u002F\\u002Fi.imgur.com\\u002FnZcCkHol.jpg\",\"type\":\"image\\u002Fthumbnail\",\"tags\":[\"ANNOTATED\"],\"createdAt\":\"2019-12-06T15:40:36.249Z\",\"updatedAt\":\"2019-12-07T15:03:22.296Z\"},{\"id\":\"89f82324-5f97-4ca5-9e0f-e27d32beb2c7\",\"url\":\"https:\\u002F\\u002Fi.imgur.com\\u002FnZcCkHo.jpg\",\"normalizedUrl\":\"https:\\u002F\\u002Fimgur.com\\u002FnZcCkHo\",\"thumbnail\":\"https:\\u002F\\u002Fi.imgur.com\\u002FnZcCkHol.jpg\",\"type\":\"image\\u002Fimgur\",\"tags\":[\"ANNOTATED\"],\"createdAt\":\"2019-12-06T15:40:36.249Z\",\"updatedAt\":\"2019-12-07T15:03:22.296Z\"},{\"id\":\"453df06a-1b1d-4a49-a79f-82f1264d5c6b\",\"url\":\"https:\\u002F\\u002Fi.imgur.com\\u002FfWdS5WQ.jpg\",\"normalizedUrl\":\"https:\\u002F\\u002Fimgur.com\\u002FfWdS5WQ\",\"thumbnail\":\"https:\\u002F\\u002Fi.imgur.com\\u002FfWdS5WQl.jpg\",\"type\":\"image\\u002Fimgur\",\"tags\":[\"ANNOTATED\"],\"createdAt\":\"2019-12-06T15:40:36.249Z\",\"updatedAt\":\"2019-12-07T15:03:22.296Z\"},{\"id\":\"b0450061-0368-4fb2-a02f-d0df101cbec8\",\"url\":\"https:\\u002F\\u002Fi.imgur.com\\u002FCpUJswd.jpg\",\"normalizedUrl\":\"https:\\u002F\\u002Fimgur.com\\u002FCpUJswd\",\"thumbnail\":\"https:\\u002F\\u002Fi.imgur.com\\u002FCpUJswdl.jpg\",\"type\":\"image\\u002Fimgur\",\"tags\":[\"ANNOTATED\"],\"createdAt\":\"2019-12-06T15:40:36.249Z\",\"updatedAt\":\"2019-12-07T15:03:22.296Z\"},{\"id\":\"2aa6268a-1ec8-4774-a250-bd79cd6d010f\",\"url\":\"https:\\u002F\\u002Fi.imgur.com\\u002FobpPfbw.jpg\",\"normalizedUrl\":\"https:\\u002F\\u002Fimgur.com\\u002FobpPfbw\",\"thumbnail\":\"https:\\u002F\\u002Fi.imgur.com\\u002FobpPfbwl.jpg\",\"type\":\"image\\u002Fimgur\",\"tags\":[\"ANNOTATED\"],\"createdAt\":\"2019-12-06T15:40:36.249Z\",\"updatedAt\":\"2019-12-07T15:03:22.296Z\"},{\"id\":\"2275862b-8198-4c4f-bcbd-f849a3fafd90\",\"url\":\"https:\\u002F\\u002Fi.imgur.com\\u002FXe1ACjY.jpg\",\"normalizedUrl\":\"https:\\u002F\\u002Fimgur.com\\u002FXe1ACjY\",\"thumbnail\":\"https:\\u002F\\u002Fi.imgur.com\\u002FXe1ACjYl.jpg\",\"type\":\"image\\u002Fimgur\",\"tags\":[\"ANNOTATED\"],\"createdAt\":\"2019-12-06T15:40:36.249Z\",\"updatedAt\":\"2019-12-07T15:03:22.296Z\"},{\"id\":\"a9b63468-bb0c-4367-a15b-b49b2ead4f5c\",\"url\":\"https:\\u002F\\u002Fi.imgur.com\\u002FZUytI1H.jpg\",\"normalizedUrl\":\"https:\\u002F\\u002Fimgur.com\\u002FZUytI1H\",\"thumbnail\":\"https:\\u002F\\u002Fi.imgur.com\\u002FZUytI1Hl.jpg\",\"type\":\"image\\u002Fimgur\",\"tags\":[\"ANNOTATED\"],\"createdAt\":\"2019-12-06T15:40:36.249Z\",\"updatedAt\":\"2019-12-07T15:03:22.296Z\"},{\"id\":\"22436351-f817-4a52-9a6a-8dd178a1c838\",\"url\":\"https:\\u002F\\u002Fi.imgur.com\\u002FaIw0nWT.jpg\",\"normalizedUrl\":\"https:\\u002F\\u002Fimgur.com\\u002FaIw0nWT\",\"thumbnail\":\"https:\\u002F\\u002Fi.imgur.com\\u002FaIw0nWTl.jpg\",\"type\":\"image\\u002Fimgur\",\"tags\":[\"ANNOTATED\"],\"createdAt\":\"2019-12-06T15:40:36.249Z\",\"updatedAt\":\"2019-12-07T15:03:22.296Z\"}],\"hidden\":false,\"layout\":\"classic\",\"reactions\":[{\"id\":\"286f599c-f86a-4932-82f0-f5a06f1eca03\",\"count\":1098},{\"id\":\"011ead16-9b83-4729-9fde-c588920c6c2d\",\"count\":1},{\"id\":\"aa0d425f-d530-4478-9a77-fe3aedc79eea\",\"count\":1}],\"forumName\":\"追星\",\"replyTitle\":null,\"updatedAt\":\"2019-12-06T15:42:23.148Z\",\"forumAlias\":\"entertainer\",\"commentCount\":42,\"department\":\"niiiiiniiiii\",\"withNickname\":true,\"school\":\"💚💜💗💛💙\",\"title\":\"Red Velvet全員開通IG🎉\",\"likeCount\":1100,\"pinned\":false,\"tags\":[],\"postAvatar\":\"\",\"id\":232638810,\"createdAt\":\"2019-12-06T15:40:36.249Z\",\"globalPinned\":null,\"forumId\":\"14f573f5-3f02-4821-8e18-f561d7b7db91\",\"withImages\":true,\"withVideos\":false,\"anonymousDepartment\":false},{\"customStyle\":null,\"excerpt\":\"身為一個被我們老哥照顧過的病患，報恩（仇）這種事是一定要的，老天爺給了我這個機會我怎麼能夠放棄呢？是不是！！很有道理！！，- 大綱 ： 我跟翔翔哥哥騎車下坡滑倒，翔翔以肉身之軀奮力的拯救了他可愛美麗大\",\"anonymousSchool\":false,\"gender\":\"F\",\"topics\":[\"妹妹很可怕\",\"報仇\",\"善良\"],\"media\":[{\"url\":\"https:\\u002F\\u002Fi.imgur.com\\u002FpwHz9dm.jpg\"},{\"url\":\"https:\\u002F\\u002Fi.imgur.com\\u002FHW183N6.jpg\"}],\"replyId\":null,\"reportReasonText\":\"\",\"meta\":{\"layout\":\"classic\"},\"isSuspiciousAccount\":false,\"mediaMeta\":[{\"id\":\"2c2e5bbd-7e61-4455-a699-95794127e118\",\"url\":\"https:\\u002F\\u002Fi.imgur.com\\u002FpwHz9dml.jpg\",\"normalizedUrl\":\"https:\\u002F\\u002Fi.imgur.com\\u002FpwHz9dml.jpg\",\"thumbnail\":\"https:\\u002F\\u002Fi.imgur.com\\u002FpwHz9dml.jpg\",\"type\":\"image\\u002Fthumbnail\",\"tags\":[\"ANNOTATED\"],\"createdAt\":\"2019-12-06T14:19:53.643Z\",\"updatedAt\":\"2019-12-06T14:21:52.370Z\"},{\"id\":\"2c2e5bbd-7e61-4455-a699-95794127e118\",\"url\":\"https:\\u002F\\u002Fi.imgur.com\\u002FpwHz9dm.jpg\",\"normalizedUrl\":\"https:\\u002F\\u002Fimgur.com\\u002FpwHz9dm\",\"thumbnail\":\"https:\\u002F\\u002Fi.imgur.com\\u002FpwHz9dml.jpg\",\"type\":\"image\\u002Fimgur\",\"tags\":[\"ANNOTATED\"],\"createdAt\":\"2019-12-06T14:19:53.643Z\",\"updatedAt\":\"2019-12-06T14:21:52.370Z\"},{\"id\":\"51444049-81fb-47bf-a795-eba47ba5c84a\",\"url\":\"https:\\u002F\\u002Fi.imgur.com\\u002FHW183N6.jpg\",\"normalizedUrl\":\"https:\\u002F\\u002Fimgur.com\\u002FHW183N6\",\"thumbnail\":\"https:\\u002F\\u002Fi.imgur.com\\u002FHW183N6l.jpg\",\"type\":\"image\\u002Fimgur\",\"tags\":[\"ANNOTATED\"],\"createdAt\":\"2019-12-06T14:19:53.643Z\",\"updatedAt\":\"2019-12-06T14:21:52.370Z\"}],\"hidden\":false,\"layout\":\"classic\",\"reactions\":[{\"id\":\"286f599c-f86a-4932-82f0-f5a06f1eca03\",\"count\":959},{\"id\":\"e8e6bc5d-41b0-4129-b134-97507523d7ff\",\"count\":88}],\"forumName\":\"有趣\",\"replyTitle\":null,\"updatedAt\":\"2019-12-06T14:21:52.370Z\",\"forumAlias\":\"funny\",\"commentCount\":29,\"department\":\"dadandme\",\"withNickname\":true,\"school\":\"奇葩父女的三兩事\",\"title\":\"我是最棒的看護(⁎⁍̴̛ᴗ⁍̴̛⁎)\",\"likeCount\":1047,\"pinned\":false,\"tags\":[],\"postAvatar\":\"\",\"id\":232638306,\"createdAt\":\"2019-12-06T14:19:53.643Z\",\"globalPinned\":null,\"forumId\":\"a1aaa6e6-2594-4968-b7dc-e1b14bea96f4\",\"withImages\":true,\"withVideos\":false,\"anonymousDepartment\":false},{\"customStyle\":null,\"excerpt\":\"嗨我不是阿米，但很想跟你們說，這幾天你們家的偶像很辛苦，而你們粉絲也辛苦了，因為獎項 因為時長，什麼好像都針對防彈而來，其實大多人都知道是主辦問題，只是狄卡會發言的大多是帶有偏見的路人，似乎一點溫暖或\",\"anonymousSchool\":false,\"gender\":\"F\",\"topics\":[\"心情\"],\"media\":[],\"replyId\":null,\"reportReasonText\":\"\",\"meta\":{\"layout\":\"classic\"},\"isSuspiciousAccount\":false,\"mediaMeta\":[],\"hidden\":false,\"layout\":\"classic\",\"reactions\":[{\"id\":\"286f599c-f86a-4932-82f0-f5a06f1eca03\",\"count\":965},{\"id\":\"514c2569-fd53-4d9d-a415-bf0f88e7329f\",\"count\":13},{\"id\":\"011ead16-9b83-4729-9fde-c588920c6c2d\",\"count\":6},{\"id\":\"aa0d425f-d530-4478-9a77-fe3aedc79eea\",\"count\":3}],\"forumName\":\"BTS\",\"replyTitle\":null,\"updatedAt\":\"2019-12-06T10:40:30.509Z\",\"forumAlias\":\"bts\",\"commentCount\":61,\"withNickname\":false,\"school\":\"高雄醫學大學\",\"title\":\"你們很棒 表演很精彩\",\"likeCount\":987,\"pinned\":false,\"tags\":[\"HIDE_THUMBNAIL\"],\"postAvatar\":\"\",\"id\":232637005,\"createdAt\":\"2019-12-06T10:40:30.509Z\",\"globalPinned\":null,\"forumId\":\"9e4476fc-d1b4-4490-a578-fc4dc95ffc52\",\"withImages\":false,\"withVideos\":false,\"anonymousDepartment\":true},{\"customStyle\":null,\"excerpt\":\"男孩有一個女友，她長得普普通通，不像有的女孩很會打扮，會彈琴，會作菜，但還算溫柔體貼。她會每晚幫他買好晚餐送到他家，因為她說她順路。她會在每次吵架之後先撒撒嬌，求他原諒她的任性。她會在他睡前打一通電話\",\"anonymousSchool\":true,\"gender\":\"F\",\"topics\":[\"被愛\",\"愛\",\"感情\",\"價值觀\",\"遠距離\"],\"media\":[],\"replyId\":null,\"reportReasonText\":\"\",\"meta\":{\"layout\":\"classic\"},\"isSuspiciousAccount\":false,\"mediaMeta\":[],\"hidden\":false,\"layout\":\"classic\",\"reactions\":[{\"id\":\"286f599c-f86a-4932-82f0-f5a06f1eca03\",\"count\":877},{\"id\":\"514c2569-fd53-4d9d-a415-bf0f88e7329f\",\"count\":24},{\"id\":\"011ead16-9b83-4729-9fde-c588920c6c2d\",\"count\":1},{\"id\":\"4b018f48-e184-445f-adf1-fc8e04ba09b9\",\"count\":1},{\"id\":\"aa0d425f-d530-4478-9a77-fe3aedc79eea\",\"count\":1}],\"forumName\":\"感情\",\"replyTitle\":null,\"updatedAt\":\"2019-12-06T16:52:17.079Z\",\"forumAlias\":\"relationship\",\"commentCount\":13,\"withNickname\":false,\"title\":\"「愛」與「被愛」的差別，你知道嗎？\",\"likeCount\":904,\"pinned\":false,\"tags\":[\"HIDE_THUMBNAIL\"],\"postAvatar\":\"\",\"id\":232639264,\"createdAt\":\"2019-12-06T16:52:17.079Z\",\"globalPinned\":null,\"forumId\":\"42851318-b9e2-4a75-8a05-9fe180becefe\",\"withImages\":false,\"withVideos\":false,\"anonymousDepartment\":true}]},\"profanities\":{\"store\":[]},\"regulation\":{},\"routing\":{\"locationBeforeTransitions\":{\"pathname\":\"\\u002Ff\",\"search\":\"\",\"hash\":\"\",\"action\":\"POP\",\"key\":null,\"query\":{}}},\"search\":{\"searchPosts\":{\"store\":{}}},\"schools\":{\"store\":[]},\"socialLogin\":{\"info\":{}},\"toasts\":{\"queue\":[]},\"topics\":{\"store\":[]},\"topicPagination\":{\"store\":{}},\"topicStat\":{},\"topicSuggestions\":{\"list\":[]},\"trending\":{},\"surveyTeam\":{},\"surveyTeamLastSeenTime\":{},\"surveyTeamStatus\":{}}</script><script defer=\"\" src=\"/build/vendor-5620d139.js\"></script><script defer=\"\" src=\"/build/desktop-ffae7854.js\"></script></body></html>"
     },
     "execution_count": 15,
     "metadata": {},
     "output_type": "execute_result"
    }
   ],
   "source": [
    "print('為什麼要使用 BeatifulSoup 處理？處理後的型態是什麼？ => ')\n",
    "print('因為原先是字串資料, 難以取出想要的資料, 可以用bs4轉成字典, 再根據關鍵字取出想要的資料')\n",
    "soup = BeautifulSoup(r.text, 'html.parser')\n",
    "soup"
   ]
  },
  {
   "cell_type": "markdown",
   "metadata": {},
   "source": [
    "### 2. 知乎： https://www.zhihu.com/explore"
   ]
  },
  {
   "cell_type": "code",
   "execution_count": 16,
   "metadata": {},
   "outputs": [
    {
     "name": "stdout",
     "output_type": "stream",
     "text": "<html>\n<head><title>400 Bad Request</title></head>\n<body bgcolor=\"white\">\n<center><h1>400 Bad Request</h1></center>\n<hr><center>openresty</center>\n</body>\n</html>\n\n"
    }
   ],
   "source": [
    "url = 'https://www.zhihu.com/explore'\n",
    "r = requests.get(url)\n",
    "r.encoding = 'utf-8'\n",
    "print(r.text[0:600])"
   ]
  },
  {
   "cell_type": "markdown",
   "metadata": {},
   "source": [
    "### 3. 觀察一下知乎回來的資料好像有點怪怪的，該怎麼解決？"
   ]
  },
  {
   "cell_type": "code",
   "execution_count": 17,
   "metadata": {},
   "outputs": [
    {
     "name": "stdout",
     "output_type": "stream",
     "text": "<!doctype html>\n<html lang=\"zh\" data-hairline=\"true\" data-theme=\"light\"><head><meta charSet=\"utf-8\"/><title data-react-helmet=\"true\">发现 - 知乎</title><meta name=\"viewport\" content=\"width=device-width,initial-scale=1,maximum-scale=1\"/><meta name=\"renderer\" content=\"webkit\"/><meta name=\"force-rendering\" content=\"webkit\"/><meta http-equiv=\"X-UA-Compatible\" content=\"IE=edge,chrome=1\"/><meta name=\"google-site-verification\" content=\"FTeR0c8arOPKh8c5DYh_9uu98_zJbaWw53J-Sch9MTg\"/><meta name=\"description\" property=\"og:description\" content=\"有问题，上知乎。知乎，可信赖的问答社区，以让每个人高效获得可信赖的解答为使命。知乎凭借认真、专业和友善的社区氛围，结构化、易获得的\n"
    }
   ],
   "source": [
    "import requests\n",
    "url = 'https://www.zhihu.com/explore'\n",
    "headers = {'User-Agent': '123'}\n",
    "r = requests.get(url, headers=headers)\n",
    "r.encoding = 'utf-8'\n",
    "print(r.text[0:600])"
   ]
  }
 ],
 "metadata": {
  "kernelspec": {
   "display_name": "Python 3",
   "language": "python",
   "name": "python3"
  },
  "language_info": {
   "codemirror_mode": {
    "name": "ipython",
    "version": 3
   },
   "file_extension": ".py",
   "mimetype": "text/x-python",
   "name": "python",
   "nbconvert_exporter": "python",
   "pygments_lexer": "ipython3",
   "version": "3.6.3"
  }
 },
 "nbformat": 4,
 "nbformat_minor": 2
}