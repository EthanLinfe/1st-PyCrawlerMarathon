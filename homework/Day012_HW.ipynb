{
 "cells": [
  {
   "cell_type": "markdown",
   "metadata": {},
   "source": [
    "# Ettoday 網路爬蟲實作練習\n",
    "\n",
    "\n",
    "* 能夠利用 Request + BeatifulSour 撰寫爬蟲，並存放到合適的資料結構\n"
   ]
  },
  {
   "cell_type": "markdown",
   "metadata": {},
   "source": [
    "## 作業目標\n",
    "\n",
    "根據範例 ，完成以下問題：\n",
    "\n",
    "* ① 取出今天所有的發文\n",
    "* ② 如果想要依照類別分類，怎麼儲存會比較好？\n",
    "* ③ 哪一個類別的文章最多\n",
    "\n",
    "\n"
   ]
  },
  {
   "cell_type": "markdown",
   "metadata": {},
   "source": [
    "### ① 取出今天所有的發文"
   ]
  },
  {
   "cell_type": "code",
   "execution_count": 41,
   "metadata": {},
   "outputs": [
    {
     "data": {
      "text/plain": "[<h3><span class=\"date\">2020/02/24 11:22</span><em class=\"tag c_news\">政治</em><a href=\"/news/20200224/1652610.htm\" target=\"_blank\">中央公布病例地圖轉彎？　柯文哲笑：我們現在要「順時中」</a></h3>,\n <h3><span class=\"date\">2020/02/24 11:21</span><em class=\"tag c_global\">國際</em><a href=\"/news/20200224/1652536.htm\" target=\"_blank\">出門慶生華裔友被笑「有新冠病毒」　她代出頭慘被揍到腦震盪</a></h3>,\n <h3><span class=\"date\">2020/02/24 11:21</span><em class=\"tag c_global\">國際</em><a href=\"/news/20200224/1652498.htm\" target=\"_blank\">疫情恐在全球大流行？　德教授：用盡資源也無法阻止擴散</a></h3>,\n <h3><span class=\"date\">2020/02/24 11:20</span><em class=\"tag c_fashion\">時尚</em><a href=\"/news/20200224/1652558.htm\" target=\"_blank\">侯佩岑拎卡地亞小紅包被指像喜餅　正解是經典珠寶盒</a></h3>,\n <h3><span class=\"date\">2020/02/24 11:19</span><em class=\"tag c_lifestyle\">生活</em><a href=\"/news/20200224/1652537.htm\" target=\"_blank\">大甲媽遶境「信徒共食+同車同住」...網急喊母湯　內行曝2情景更驚悚！</a></h3>,\n <h3><span class=\"date\">2020/02/24 11:19</span><em class=\"tag c_pet\">寵物動物</em><a href=\"/news/20200224/1652405.htm\" target=\"_blank\"><i class=\"icon_type_video\"></i>對圓眼萌貓比「沒品手勢」遭無視！　牠下秒「失控舉動」媽手機飛</a></h3>,\n <h3><span class=\"date\">2020/02/24 11:18</span><em class=\"tag c_news\">政治</em><a href=\"/news/20200224/1652592.htm\" target=\"_blank\">陳時中買房背債5657萬元　「存款不到300萬」投資小牙醫診所</a></h3>,\n <h3><span class=\"date\">2020/02/24 11:18</span><em class=\"tag c_army\">軍武</em><a href=\"/news/20200224/1652475.htm\" target=\"_blank\">2年來第4架！印度海軍米格-29K戰鬥機「技術性故障」墜毀</a></h3>,\n <h3><span class=\"date\">2020/02/24 11:17</span><em class=\"tag c_lifestyle\">生活</em><a href=\"/news/20200224/1652617.htm\" target=\"_blank\">落「食」防疫   營養師您吃出免疫力</a></h3>,\n <h3><span class=\"date\">2020/02/24 11:17</span><em class=\"tag c_lifestyle\">生活</em><a href=\"/news/20200224/1652516.htm\" target=\"_blank\">情侶不能接吻！留學生觀察韓國人「3個不戴口罩原因」　揭當地人4日常聚集地</a></h3>,\n <h3><span class=\"date\">2020/02/24 11:17</span><em class=\"tag c_consuming\">消費</em><a href=\"/news/20200224/1644725.htm\" target=\"_blank\">食材超商都有賣！地方媽媽必學百道「晨光土司料理」　投票就抽2萬元儲值金</a></h3>,\n <h3><span class=\"date\">2020/02/24 11:16</span><em class=\"tag c_society\">社會</em><a href=\"/news/20200224/1652546.htm\" target=\"_blank\">獨／怪男深夜闖娃娃機店「下半身猛撞機台」　動作超猥褻</a></h3>,\n <h3><span class=\"date\">2020/02/24 11:14</span><em class=\"tag c_news\">政治</em><a href=\"/news/20200224/1652609.htm\" target=\"_blank\">台灣民意基金會／蔡英文抗疫見效　聲望急升68.4%、不贊同者驟降10％</a></h3>,\n <h3><span class=\"date\">2020/02/24 11:14</span><em class=\"tag c_lifestyle\">生活</em><a href=\"/news/20200224/1652456.htm\" target=\"_blank\">學測數學1.4萬人滿級分又創新高　大考中心認了要檢討提「3改善」</a></h3>,\n <h3><span class=\"date\">2020/02/24 11:14</span><em class=\"tag c_army\">軍武</em><a href=\"/news/20200224/1652393.htm\" target=\"_blank\">捕捉幕後「黑手」　空軍三指部光影魔術師創造美麗構圖</a></h3>,\n <h3><span class=\"date\">2020/02/24 11:13</span><em class=\"tag c_star\">影劇</em><a href=\"/news/20200224/1652591.htm\" target=\"_blank\"><i class=\"icon_type_video\"></i>吃飯偶遇大咖歌手「是XXX吧！」　路人下秒超狠回應..釣出本尊親回</a></h3>,\n <h3><span class=\"date\">2020/02/24 11:11</span><em class=\"tag c_china\">大陸</em><a href=\"/news/20200224/1652522.htm\" target=\"_blank\">「零症狀→無法走路」幾小時！染病女醫生鬼門關徘徊20天…PO出保命關鍵</a></h3>,\n <h3><span class=\"date\">2020/02/24 11:10</span><em class=\"tag c_speed\">ET車雲</em><a href=\"/news/20200224/1652603.htm\" target=\"_blank\">保時捷擠下速霸陸搶進第1名　消費者報告公布2020年最佳汽車品牌</a></h3>,\n <h3><span class=\"date\">2020/02/24 11:09</span><em class=\"tag c_china\">大陸</em><a href=\"/news/20200224/1652597.htm\" target=\"_blank\">不斷更新／單日新增409確診！大陸累計確診77150例、2592死亡</a></h3>,\n <h3><span class=\"date\">2020/02/24 11:08</span><em class=\"tag c_society\">社會</em><a href=\"/news/20200224/1652596.htm\" target=\"_blank\">青峰師徒翻臉原因曝光　大陸版稅上億人民幣沒拿到…拒再合作卻忘了終止授權</a></h3>,\n <h3><span class=\"date\">2020/02/24 11:05</span><em class=\"tag c_society\">社會</em><a href=\"/news/20200224/1652588.htm\" target=\"_blank\">大法庭首件裁定影響　詐騙集團車手楊哲旻案撤銷發回更審</a></h3>,\n <h3><span class=\"date\">2020/02/24 11:05</span><em class=\"tag c_sport\">體育</em><a href=\"/news/20200224/1652590.htm\" target=\"_blank\"><i class=\"icon_type_video\"></i>詹皇被撞倒地仍砍關鍵後仰跳投　聯手AD轟61分率湖人2分險勝綠軍</a></h3>,\n <h3><span class=\"date\">2020/02/24 11:04</span><em class=\"tag c_lifestyle\">生活</em><a href=\"/news/20200224/1652562.htm\" target=\"_blank\">台大預測新冠肺炎：中國大陸復工可能有下一波大流行！</a></h3>,\n <h3><span class=\"date\">2020/02/24 11:01</span><em class=\"tag c_fashion\">時尚</em><a href=\"/news/20200224/1652574.htm\" target=\"_blank\"><i class=\"icon_type_video\"></i>米蘭時裝周／Giorgio Armani設計師匆忙戴口罩　秀前突發聲明「改直播進行」　</a></h3>,\n <h3><span class=\"date\">2020/02/24 11:00</span><em class=\"tag c_china\">大陸</em><a href=\"/news/20200224/1652584.htm\" target=\"_blank\">病毒太狡猾！　成都治癒病患再次感染「引發恐慌」　</a></h3>,\n <h3><span class=\"date\">2020/02/24 11:00</span><em class=\"tag c_travel\">旅遊</em><a href=\"/news/20200224/1652553.htm\" target=\"_blank\">新北賞櫻、燈會「交通懶人包」！228連假怕塞車必看</a></h3>,\n <h3><span class=\"date\">2020/02/24 11:00</span><em class=\"tag c_commentary\">論壇</em><a href=\"/news/20200224/1652527.htm\" target=\"_blank\"><i class=\"icon_type_video\"></i>楊渡／我為受苦的生命祈禱　卻被網軍罵</a></h3>,\n <h3><span class=\"date\">2020/02/24 11:00</span><em class=\"tag c_finance\">財經</em><a href=\"/news/20200224/1650256.htm\" target=\"_blank\"><i class=\"icon_type_video\"></i>雲端最有錢／存股滾千萬　還是賠到掛？</a></h3>,\n <h3><span class=\"date\">2020/02/24 10:59</span><em class=\"tag c_lifestyle\">生活</em><a href=\"/news/20200224/1652594.htm\" target=\"_blank\">台南藥師公會提醒　慢性病患可拿連續處方箋到健保藥局領藥</a></h3>,\n <h3><span class=\"date\">2020/02/24 10:59</span><em class=\"tag c_global\">國際</em><a href=\"/news/20200224/1652552.htm\" target=\"_blank\">南韓4歲女童治療中…母穿防護衣照顧　托兒所老師曾到新天地教會</a></h3>,\n <h3><span class=\"date\">2020/02/24 10:58</span><em class=\"tag c_news\">政治</em><a href=\"/news/20200224/1652582.htm\" target=\"_blank\">傅崐萁要金溥聰「少些政治」　多一些為民眾防疫加把勁</a></h3>,\n <h3><span class=\"date\">2020/02/24 10:58</span><em class=\"tag c_lifestyle\">生活</em><a href=\"/news/20200224/1652555.htm\" target=\"_blank\">新冠肺炎比SARS更強⋯專家「台灣已有社區感染」：政府防疫應朝2大方向調整</a></h3>,\n <h3><span class=\"date\">2020/02/24 10:57</span><em class=\"tag c_society\">社會</em><a href=\"/news/20200224/1652500.htm\" target=\"_blank\">「寄生夫」在外撩妹…她獨養3子女卻換來一句瘋查某！結婚40年崩潰：我要離婚</a></h3>,\n <h3><span class=\"date\">2020/02/24 10:55</span><em class=\"tag c_teck3c\">3C家電</em><a href=\"/news/20200224/1652587.htm\" target=\"_blank\">深藍背蓋、螢幕尺寸選擇多　2020高階iPhone六大亮點一次看</a></h3>,\n <h3><span class=\"date\">2020/02/24 10:55</span><em class=\"tag c_global\">國際</em><a href=\"/news/20200224/1652576.htm\" target=\"_blank\">義大利祭限娛令！威尼斯「面具節」取消　史卡拉劇院首度因疫情停擺</a></h3>,\n <h3><span class=\"date\">2020/02/24 10:55</span><em class=\"tag c_travel\">旅遊</em><a href=\"/news/20200224/1650103.htm\" target=\"_blank\">像是置身「夢遊仙境」！跟著兔子進入文資藝術燈節</a></h3>,\n <h3><span class=\"date\">2020/02/24 10:53</span><em class=\"tag c_travel\">旅遊</em><a href=\"/news/20200224/1651501.htm\" target=\"_blank\">特搜全台動物園　親子出遊情侶約會超適合！還能餵鸚鵡</a></h3>,\n <h3><span class=\"date\">2020/02/24 10:52</span><em class=\"tag c_sport\">體育</em><a href=\"/news/20200224/1652585.htm\" target=\"_blank\">美國12強頂級大物　被天使教頭梅登點名即將升大聯盟</a></h3>,\n <h3><span class=\"date\">2020/02/24 10:52</span><em class=\"tag c_news\">政治</em><a href=\"/news/20200224/1652583.htm\" target=\"_blank\">柯文哲：「社區感染到了群聚的程度」　北市就開設一級應變中心　</a></h3>,\n <h3><span class=\"date\">2020/02/24 10:50</span><em class=\"tag c_news\">政治</em><a href=\"/news/20200224/1652540.htm\" target=\"_blank\">柯文哲因為北部女挨轟！蔡壁如「陳時中壓力太大」：說也不行、不說也不行</a></h3>,\n <h3><span class=\"date\">2020/02/24 10:49</span><em class=\"tag c_society\">社會</em><a href=\"/news/20200224/1652565.htm\" target=\"_blank\">登山客「羅馬縱走」中風昏迷搶救不治　直升機吊掛下山</a></h3>,\n <h3><span class=\"date\">2020/02/24 10:49</span><em class=\"tag c_society\">社會</em><a href=\"/news/20200224/1652526.htm\" target=\"_blank\">傳吞吐片嗆正宮「妳老公把人家肚子搞大」！小三跩喊：不離婚就是欺負我</a></h3>,\n <h3><span class=\"date\">2020/02/24 10:48</span><em class=\"tag c_lifestyle\">生活</em><a href=\"/news/20200224/1652566.htm\" target=\"_blank\">中市府、國旅協會與產業故事館共推安心旅遊　跨界齊拼觀光</a></h3>,\n <h3><span class=\"date\">2020/02/24 10:48</span><em class=\"tag c_society\">社會</em><a href=\"/news/20200224/1652559.htm\" target=\"_blank\">跆拳亞運金牌魏辰洋崩解變毒梟！身藏54顆安非他命梅碇遭判刑</a></h3>,\n <h3><span class=\"date\">2020/02/24 10:47</span><em class=\"tag c_commentary\">論壇</em><a href=\"/news/20200224/1652490.htm\" target=\"_blank\">【共機繞台】揭仲／疫情棘手但兩岸問題不鬆手？</a></h3>,\n <h3><span class=\"date\">2020/02/24 10:43</span><em class=\"tag c_global\">國際</em><a href=\"/news/20200224/1652472.htm\" target=\"_blank\">南韓病例狂飆！首爾4.2萬公務員今起調整工時　文化體育場館全面關閉</a></h3>,\n <h3><span class=\"date\">2020/02/24 10:42</span><em class=\"tag c_society\">社會</em><a href=\"/news/20200224/1652484.htm\" target=\"_blank\">跨年夜激戰小三！被抓包他秒認　正宮聽小三甜喊「給你親」崩潰…結果卻敗訴</a></h3>,\n <h3><span class=\"date\">2020/02/24 10:38</span><em class=\"tag c_news\">政治</em><a href=\"/news/20200224/1652568.htm\" target=\"_blank\">「這是男人的承諾」　傅崐萁：從政20年都支持正藍　才選在這時恢復黨籍</a></h3>,\n <h3><span class=\"date\">2020/02/24 10:38</span><em class=\"tag c_global\">國際</em><a href=\"/news/20200224/1652531.htm\" target=\"_blank\"><i class=\"icon_type_video\"></i>療養院員工確診…釜山市府下令全面封鎖！　現正調查出現症狀者</a></h3>,\n <h3><span class=\"date\">2020/02/24 10:37</span><em class=\"tag c_china\">大陸</em><a href=\"/news/20200224/1652544.htm\" target=\"_blank\">佛堂成病毒天堂！　香港6名病患陸續確診...都有「這個共通點」</a></h3>,\n <h3><span class=\"date\">2020/02/24 10:37</span><em class=\"tag c_global\">國際</em><a href=\"/news/20200224/1652445.htm\" target=\"_blank\">不斷更新／南韓11軍人中鏢「763感染」　當局仍不打算擴大入境禁令</a></h3>,\n <h3><span class=\"date\">2020/02/24 10:35</span><em class=\"tag c_lifestyle\">生活</em><a href=\"/news/20200224/1652520.htm\" target=\"_blank\">劉真裝葉克膜18天「還有196人等換心」　醫曝「現實條件」：一切看緣分</a></h3>,\n <h3><span class=\"date\">2020/02/24 10:35</span><em class=\"tag c_lifestyle\">生活</em><a href=\"/news/20200224/1652470.htm\" target=\"_blank\">薪水30萬！台灣醫界大老組防疫團救大陸　蔡正元爆「禁醫護出國內幕」</a></h3>,\n <h3><span class=\"date\">2020/02/24 10:33</span><em class=\"tag c_society\">社會</em><a href=\"/news/20200224/1652542.htm\" target=\"_blank\">網瘋傳里港公園大樹「神奇自燃」　消防狂噴水滅不掉...真相出爐</a></h3>,\n <h3><span class=\"date\">2020/02/24 10:32</span><em class=\"tag c_society\">社會</em><a href=\"/news/20200224/1652530.htm\" target=\"_blank\">童未戴口罩竟挨幼保員暴打！台南恐怖託嬰中心「推趴撞牆」涉虐</a></h3>,\n <h3><span class=\"date\">2020/02/24 10:30</span><em class=\"tag c_lifestyle\">生活</em><a href=\"/news/20200224/1652563.htm\" target=\"_blank\">快訊／大學博覽會取消！北中南三地「配合防疫」26年來首度喊卡</a></h3>,\n <h3><span class=\"date\">2020/02/24 10:28</span><em class=\"tag c_lifestyle\">生活</em><a href=\"/news/20200224/1652525.htm\" target=\"_blank\">「防疫到現在我都還滿樂觀」　醫：但這件事真憂心！應不少居家隔離者會溜來</a></h3>,\n <h3><span class=\"date\">2020/02/24 10:26</span><em class=\"tag c_sport\">體育</em><a href=\"/news/20200224/1652560.htm\" target=\"_blank\">杜哈女網／詹家姊妹拚衛冕　首輪「射日」過關</a></h3>,\n <h3><span class=\"date\">2020/02/24 10:25</span><em class=\"tag c_global\">國際</em><a href=\"/news/20200224/1652451.htm\" target=\"_blank\">北韓隔離380名外國人　海外入境一律「延長檢疫期至30天」</a></h3>,\n <h3><span class=\"date\">2020/02/24 10:24</span><em class=\"tag c_fashion\">時尚</em><a href=\"/news/20200224/1651165.htm\" target=\"_blank\">跟著「北韓最美」徐丹、泫雅買唇膏　時尚感立刻GET！</a></h3>,\n <h3><span class=\"date\">2020/02/24 10:21</span><em class=\"tag c_china\">大陸</em><a href=\"/news/20200224/1652547.htm\" target=\"_blank\">秋行軍蟲已「定居」中國　陸專家警示：2020蟲害或提早來臨</a></h3>,\n <h3><span class=\"date\">2020/02/24 10:20</span><em class=\"tag c_sport\">體育</em><a href=\"/news/20200224/1652550.htm\" target=\"_blank\">被野豬攻擊薪水砍到最少剩600萬　塞佩達斯拚開幕戰回歸</a></h3>,\n <h3><span class=\"date\">2020/02/24 10:17</span><em class=\"tag c_society\">社會</em><a href=\"/news/20200224/1652487.htm\" target=\"_blank\">獨／遇到「金牌ㄟ」所長也沒轍　高雄男被警追捕「剉屎」當街脫褲</a></h3>,\n <h3><span class=\"date\">2020/02/24 10:14</span><em class=\"tag c_lifestyle\">生活</em><a href=\"/news/20200224/1652535.htm\" target=\"_blank\">網美冒死飛韓代購！返台疑肺炎住隔離病房「吐舌自拍」　醫爆氣：任性妄為</a></h3>,\n <h3><span class=\"date\">2020/02/24 10:13</span><em class=\"tag c_china\">大陸</em><a href=\"/news/20200224/1652532.htm\" target=\"_blank\">彰顯防控成效！　廣東等6省下調疫情「應急響應等級」</a></h3>,\n <h3><span class=\"date\">2020/02/24 10:13</span><em class=\"tag c_star\">影劇</em><a href=\"/news/20200224/1652528.htm\" target=\"_blank\">黃安回台用80萬健保救命　4年後「身體近況曝光」疫情爆發留台</a></h3>,\n <h3><span class=\"date\">2020/02/24 10:10</span><em class=\"tag c_sport\">體育</em><a href=\"/news/20200224/1652478.htm\" target=\"_blank\">企排／台電20連勝收下第六冠　李興國坐擁本季得分王</a></h3>,\n <h3><span class=\"date\">2020/02/24 10:10</span><em class=\"tag c_teck3c\">3C家電</em><a href=\"/news/20200224/1652473.htm\" target=\"_blank\">Twitter添新功能　一鍵輕鬆將新舊推文串連起來</a></h3>,\n <h3><span class=\"date\">2020/02/24 10:10</span><em class=\"tag c_news\">政治</em><a href=\"/news/20200224/1652464.htm\" target=\"_blank\">台童喊我想回家…羅智強「紅了眼睛」籲陸方：第二架包機改華航有何不可</a></h3>,\n <h3><span class=\"date\">2020/02/24 10:10</span><em class=\"tag c_global\">國際</em><a href=\"/news/20200224/1652449.htm\" target=\"_blank\">川普「最大對手」桑德斯：中國若侵略台灣　我會採取行動！</a></h3>,\n <h3><span class=\"date\">2020/02/24 10:06</span><em class=\"tag c_star\">影劇</em><a href=\"/news/20200224/1652523.htm\" target=\"_blank\">男偶像單飛「同台天王、天團」慘被電！　觀眾噓爆⋯直接丟尿瓶上台</a></h3>,\n <h3><span class=\"date\">2020/02/24 10:06</span><em class=\"tag c_lifestyle\">生活</em><a href=\"/news/20200224/1652469.htm\" target=\"_blank\">學測英文滿級分6025人掉5%　數學「頂標14分」滿級分全台破萬人</a></h3>,\n <h3><span class=\"date\">2020/02/24 10:05</span><em class=\"tag c_lifestyle\">生活</em><a href=\"/news/20200224/1652517.htm\" target=\"_blank\">學測5標公布！和去年一致英、數頂標14級分　國文要13級分</a></h3>,\n <h3><span class=\"date\">2020/02/24 10:00</span><em class=\"tag c_travel\">旅遊</em><a href=\"/news/20200224/1648078.htm\" target=\"_blank\">包整尾蝦仁！隱藏益民商圈現蒸蝦湯包　咬下噴汁、加辣更過癮</a></h3>,\n <h3><span class=\"date\">2020/02/24 09:59</span><em class=\"tag c_house\">房產雲</em><a href=\"/news/20200224/1650837.htm\" target=\"_blank\">麥當勞好厝邊！左營店面開5.88億出售　成交可養職棒隊6年</a></h3>,\n <h3><span class=\"date\">2020/02/24 09:57</span><em class=\"tag c_local\">地方</em><a href=\"/news/20200224/1652495.htm\" target=\"_blank\">屏東交通大執法　全時段在易肇事路段執行定點守望勤務</a></h3>,\n <h3><span class=\"date\">2020/02/24 09:56</span><em class=\"tag c_china\">大陸</em><a href=\"/news/20200224/1652468.htm\" target=\"_blank\">在家窩14天領「解除隔離」　一家4口趴趴走13天…父親突發病1天內全家確診！</a></h3>,\n <h3><span class=\"date\">2020/02/24 09:54</span><em class=\"tag c_discovery\">探索</em><a href=\"/news/20200224/1648476.htm\" target=\"_blank\">食力／美國可口可樂推出新品VIP訂閱制　3小時搶光</a></h3>,\n <h3><span class=\"date\">2020/02/24 09:53</span><em class=\"tag c_pet\">寵物動物</em><a href=\"/news/20200224/1652482.htm\" target=\"_blank\">2個月第9隻！　屏東車城岸際又見死亡綠蠵龜</a></h3>,\n <h3><span class=\"date\">2020/02/24 09:52</span><em class=\"tag c_star\">影劇</em><a href=\"/news/20200224/1652511.htm\" target=\"_blank\"><i class=\"icon_type_video\"></i>直播抽到粉絲「暱稱狂DISS李秀滿」　SJ希澈當場笑到崩潰：這不是隱藏攝影機？</a></h3>,\n <h3><span class=\"date\">2020/02/24 09:47</span><em class=\"tag c_star\">影劇</em><a href=\"/news/20200224/1652505.htm\" target=\"_blank\"><i class=\"icon_type_video\"></i>謝和弦再開譙Keanna「荷蘭血統哪來」：去問不愛妳的親媽！　PO文狂嗆「見一次教訓一次」</a></h3>,\n <h3><span class=\"date\">2020/02/24 09:43</span><em class=\"tag c_sport\">體育</em><a href=\"/news/20200224/1652508.htm\" target=\"_blank\">教士交易林德組「黃金三游」前　先簽二壘砲多齊爾</a></h3>,\n <h3><span class=\"date\">2020/02/24 09:34</span><em class=\"tag c_society\">社會</em><a href=\"/news/20200224/1652497.htm\" target=\"_blank\">快訊／青峰單飛闖蕩遭起訴！恩師林暐哲控告侵害著作權</a></h3>,\n <h3><span class=\"date\">2020/02/24 09:33</span><em class=\"tag c_finance\">財經</em><a href=\"/news/20200224/1652494.htm\" target=\"_blank\">韓元創近8年來新低紀錄　換新台幣5萬多賺2200元</a></h3>,\n <h3><span class=\"date\">2020/02/24 09:30</span><em class=\"tag c_lifestyle\">生活</em><a href=\"/news/20200224/1652452.htm\" target=\"_blank\">別再玩升學競賽遊戲！學生號召「終結放榜新聞」　要教部拿出具體作為</a></h3>,\n <h3><span class=\"date\">2020/02/24 09:26</span><em class=\"tag c_news\">政治</em><a href=\"/news/20200224/1652455.htm\" target=\"_blank\">禁醫事人員出國陳柏惟嘆不值　籲限縮範圍「義務和權利必須對等」</a></h3>,\n <h3><span class=\"date\">2020/02/24 09:26</span><em class=\"tag c_health\">健康</em><a href=\"/news/20200224/1652368.htm\" target=\"_blank\">虎真愛來了！　12生肖「本週運勢」揭曉...猴：爛桃花、仙人跳纏上</a></h3>,\n <h3><span class=\"date\">2020/02/24 09:24</span><em class=\"tag c_sport\">體育</em><a href=\"/news/20200224/1652489.htm\" target=\"_blank\">揭露太空人作弊醜聞　費爾斯春訓登板享受英雄式歡呼</a></h3>,\n <h3><span class=\"date\">2020/02/24 09:22</span><em class=\"tag c_fashion\">時尚</em><a href=\"/news/20200224/1649101.htm\" target=\"_blank\">「隨便跳上一台公車」　4種能讓約會更神奇的好主意</a></h3>,\n <h3><span class=\"date\">2020/02/24 09:21</span><em class=\"tag c_global\">國際</em><a href=\"/news/20200224/1652446.htm\" target=\"_blank\"><i class=\"icon_type_video\"></i>快訊／南韓爆第7死！　一夜添161人確診新冠肺炎「累計763例」</a></h3>,\n <h3><span class=\"date\">2020/02/24 09:20</span><em class=\"tag c_lifestyle\">生活</em><a href=\"/news/20200224/1652458.htm\" target=\"_blank\">9天8夜大甲媽遶境3月登場　台大名醫：祈禱媽祖趕快顯靈托夢！停辦吧</a></h3>,\n <h3><span class=\"date\">2020/02/24 09:16</span><em class=\"tag c_global\">國際</em><a href=\"/news/20200224/1652428.htm\" target=\"_blank\">義列車傳2乘客疑患新冠肺炎！奧國急關邊境4hrs　伊朗8死慘遭鄰國封鎖</a></h3>,\n <h3><span class=\"date\">2020/02/24 09:08</span><em class=\"tag c_sport\">體育</em><a href=\"/news/20200224/1652465.htm\" target=\"_blank\">企排／Matea成首位外籍得分后　28日挑戰賽對戰組合出爐</a></h3>,\n <h3><span class=\"date\">2020/02/24 09:08</span><em class=\"tag c_finance\">財經</em><a href=\"/news/20200224/1652454.htm\" target=\"_blank\">新台幣開盤貶值1.7分　以30.42元兌1美元開出</a></h3>,\n <h3><span class=\"date\">2020/02/24 09:07</span><em class=\"tag c_star\">影劇</em><a href=\"/news/20200224/1652429.htm\" target=\"_blank\">肺炎重擊南韓！GFRIEND「已經入座了」簽售會急喊卡　成員台上爆哭道歉</a></h3>,\n <h3><span class=\"date\">2020/02/24 09:05</span><em class=\"tag c_speed\">ET車雲</em><a href=\"/news/20200224/1652353.htm\" target=\"_blank\">馬自達2試駕開箱：現行世代的最終誠意告別作？</a></h3>,\n <h3><span class=\"date\">2020/02/24 09:04</span><em class=\"tag c_finance\">財經</em><a href=\"/news/20200224/1652453.htm\" target=\"_blank\">台股早盤重挫逾百點！電子三雄下跌逾1%　台股跌破11600點</a></h3>,\n <h3><span class=\"date\">2020/02/24 09:02</span><em class=\"tag c_health\">健康</em><a href=\"/news/20200224/1650984.htm\" target=\"_blank\">除了碘…甲狀腺亢進「避吃4類食物」　營養師：咖啡、茶都母湯</a></h3>,\n <h3><span class=\"date\">2020/02/24 08:50</span><em class=\"tag c_news\">政治</em><a href=\"/news/20200224/1652439.htm\" target=\"_blank\">防疫隔離補償每人每日給800元　600億紓困預算最快週四定案</a></h3>,\n <h3><span class=\"date\">2020/02/24 08:49</span><em class=\"tag c_finance\">財經</em><a href=\"/news/20200224/1652434.htm\" target=\"_blank\">美股道瓊跌227點　台指期開盤下跌154點</a></h3>]"
     },
     "execution_count": 41,
     "metadata": {},
     "output_type": "execute_result"
    }
   ],
   "source": [
    "import requests\n",
    "from bs4 import BeautifulSoup\n",
    "\n",
    "url = 'https://www.ettoday.net/news/news-list.htm'\n",
    "res = requests.get(url)\n",
    "soup = BeautifulSoup(res.text)\n",
    "# date = soup.find_all('div', class_='part_list_2')\n",
    "date = soup.find_all('div', class_='part_list_2')\n",
    "date = date[0].find_all('h3')\n",
    "date"
   ]
  },
  {
   "cell_type": "markdown",
   "metadata": {},
   "source": [
    "### ② 如果想要依照類別分類，怎麼儲存會比較好？"
   ]
  },
  {
   "cell_type": "code",
   "execution_count": 48,
   "metadata": {},
   "outputs": [
    {
     "name": "stdout",
     "output_type": "stream",
     "text": "['tag', 'c_news']\n['tag', 'c_global']\n['tag', 'c_global']\n['tag', 'c_fashion']\n['tag', 'c_lifestyle']\n['tag', 'c_pet']\n['tag', 'c_news']\n['tag', 'c_army']\n['tag', 'c_lifestyle']\n['tag', 'c_lifestyle']\n['tag', 'c_consuming']\n['tag', 'c_society']\n['tag', 'c_news']\n['tag', 'c_lifestyle']\n['tag', 'c_army']\n['tag', 'c_star']\n['tag', 'c_china']\n['tag', 'c_speed']\n['tag', 'c_china']\n['tag', 'c_society']\n['tag', 'c_society']\n['tag', 'c_sport']\n['tag', 'c_lifestyle']\n['tag', 'c_fashion']\n['tag', 'c_china']\n['tag', 'c_travel']\n['tag', 'c_commentary']\n['tag', 'c_finance']\n['tag', 'c_lifestyle']\n['tag', 'c_global']\n['tag', 'c_news']\n['tag', 'c_lifestyle']\n['tag', 'c_society']\n['tag', 'c_teck3c']\n['tag', 'c_global']\n['tag', 'c_travel']\n['tag', 'c_travel']\n['tag', 'c_sport']\n['tag', 'c_news']\n['tag', 'c_news']\n['tag', 'c_society']\n['tag', 'c_society']\n['tag', 'c_lifestyle']\n['tag', 'c_society']\n['tag', 'c_commentary']\n['tag', 'c_global']\n['tag', 'c_society']\n['tag', 'c_news']\n['tag', 'c_global']\n['tag', 'c_china']\n['tag', 'c_global']\n['tag', 'c_lifestyle']\n['tag', 'c_lifestyle']\n['tag', 'c_society']\n['tag', 'c_society']\n['tag', 'c_lifestyle']\n['tag', 'c_lifestyle']\n['tag', 'c_sport']\n['tag', 'c_global']\n['tag', 'c_fashion']\n['tag', 'c_china']\n['tag', 'c_sport']\n['tag', 'c_society']\n['tag', 'c_lifestyle']\n['tag', 'c_china']\n['tag', 'c_star']\n['tag', 'c_sport']\n['tag', 'c_teck3c']\n['tag', 'c_news']\n['tag', 'c_global']\n['tag', 'c_star']\n['tag', 'c_lifestyle']\n['tag', 'c_lifestyle']\n['tag', 'c_travel']\n['tag', 'c_house']\n['tag', 'c_local']\n['tag', 'c_china']\n['tag', 'c_discovery']\n['tag', 'c_pet']\n['tag', 'c_star']\n['tag', 'c_star']\n['tag', 'c_sport']\n['tag', 'c_society']\n['tag', 'c_finance']\n['tag', 'c_lifestyle']\n['tag', 'c_news']\n['tag', 'c_health']\n['tag', 'c_sport']\n['tag', 'c_fashion']\n['tag', 'c_global']\n['tag', 'c_lifestyle']\n['tag', 'c_global']\n['tag', 'c_sport']\n['tag', 'c_finance']\n['tag', 'c_star']\n['tag', 'c_speed']\n['tag', 'c_finance']\n['tag', 'c_health']\n['tag', 'c_news']\n['tag', 'c_finance']\n"
    }
   ],
   "source": [
    "for new in date:\n",
    "    print(new.em['class'])"
   ]
  },
  {
   "cell_type": "markdown",
   "metadata": {},
   "source": [
    "### ③ 哪一個類別的文章最多"
   ]
  },
  {
   "cell_type": "code",
   "execution_count": 56,
   "metadata": {},
   "outputs": [
    {
     "name": "stdout",
     "output_type": "stream",
     "text": "c_lifestyle\n"
    }
   ],
   "source": [
    "count = {}\n",
    "for new in date:\n",
    "    tag = new.em['class'][1]\n",
    "    if not tag in count:\n",
    "        count.update({tag: 1})\n",
    "    else:\n",
    "        count[tag] += 1\n",
    "print(max(count, key=count.get))"
   ]
  },
  {
   "cell_type": "code",
   "execution_count": null,
   "metadata": {},
   "outputs": [],
   "source": []
  },
  {
   "cell_type": "code",
   "execution_count": null,
   "metadata": {},
   "outputs": [],
   "source": []
  },
  {
   "cell_type": "code",
   "execution_count": null,
   "metadata": {},
   "outputs": [],
   "source": []
  }
 ],
 "metadata": {
  "kernelspec": {
   "display_name": "Python 3",
   "language": "python",
   "name": "python3"
  },
  "language_info": {
   "codemirror_mode": {
    "name": "ipython",
    "version": 3
   },
   "file_extension": ".py",
   "mimetype": "text/x-python",
   "name": "python",
   "nbconvert_exporter": "python",
   "pygments_lexer": "ipython3",
   "version": "3.6.3-final"
  }
 },
 "nbformat": 4,
 "nbformat_minor": 2
}