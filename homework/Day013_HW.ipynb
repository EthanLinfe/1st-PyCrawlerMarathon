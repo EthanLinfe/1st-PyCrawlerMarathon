{
 "cells": [
  {
   "cell_type": "markdown",
   "metadata": {},
   "source": [
    "# PTT 網路爬蟲實作練習\n",
    "\n",
    "\n",
    "* 能夠利用 Request + BeatifulSour 撰寫爬蟲，並存放到合適的資料結構\n"
   ]
  },
  {
   "cell_type": "markdown",
   "metadata": {},
   "source": [
    "## 作業目標\n",
    "\n",
    "根據範例 ，完成以下問題：\n",
    "\n",
    "* ① 印出最新文章的「作者」「標題」「時間」\n",
    "* ② 印出第一頁所有文章的「作者」「標題」「時間」\n"
   ]
  },
  {
   "cell_type": "markdown",
   "metadata": {},
   "source": [
    "### ① 印出最新文章的「作者」「標題」「時間」"
   ]
  },
  {
   "cell_type": "code",
   "execution_count": 50,
   "metadata": {},
   "outputs": [
    {
     "name": "stdout",
     "output_type": "stream",
     "text": "Rambo, [BOX ] Wizards 117:126 Bulls 數據, 2/24\n"
    }
   ],
   "source": [
    "import requests\n",
    "from bs4 import BeautifulSoup\n",
    "\n",
    "url = 'https://www.ptt.cc/bbs/NBA/index.html'\n",
    "res = requests.get(url)\n",
    "soup = BeautifulSoup(res.text)\n",
    "article = soup.find('div', class_='r-ent')\n",
    "print(('{}, {}, {}').format((article.find(class_='author').text).strip(), (article.find(class_='title').text).strip(), (article.find(class_='date').text).strip()))"
   ]
  },
  {
   "cell_type": "markdown",
   "metadata": {},
   "source": [
    "### ② 印出第一頁所有文章的「作者」「標題」「時間」"
   ]
  },
  {
   "cell_type": "code",
   "execution_count": 63,
   "metadata": {},
   "outputs": [
    {
     "name": "stdout",
     "output_type": "stream",
     "text": "Rambo, [BOX ] Wizards 117:126 Bulls 數據, 2/24\nNSYSUheng, [情報] CP3成為歷史抄截榜第7名, 2/24\nUCAthena, [情報] Beal生涯新高仍輸球後的表情, 2/24\nUCAthena, [花邊] RHJ搞丟錢包的懸賞：Siakam簽名球衣, 2/24\nRambo, [BOX ] Pelicans 115:101 Warriors 數據, 2/24\nnamie810303, [公告] 水桶, 2/24\npneumo, [情報] CP3差一板大三元 開玩笑說:都是教練啦~, 2/24\nRambo, [BOX ] Pistons 104:107 Blazers 數據, 2/24\n-, (本文已被刪除) [Bainite], 2/24\nthnlkj0665, [情報] 公鹿隊成為史上最快取得季後賽門票的球隊, 2/24\nBainite, [花邊] Cuban將被處分, 2/24\neetee, [討論] 為什麼偉德因為一件事就臭到爆, 2/24\njack34031, [情報] J.Okafor加入奈及利亞國家隊, 2/24\nVedan, [公告] 板規v6.8, 5/24\nqazwsx879345, [公告] 版主上任相關事項, 10/25\nAcetoxy, [情報] SEASON Schedule 賽程 February 19–20, 1/31\n"
    }
   ],
   "source": [
    "articles = soup.find_all('div', class_='r-ent')\n",
    "for item in articles:\n",
    "    print(('{}, {}, {}').format((item.find(class_='author').text).strip(), (item.find(class_='title').text).strip(), (item.find(class_='date').text).strip()))"
   ]
  },
  {
   "cell_type": "markdown",
   "metadata": {},
   "source": [
    "### ③ 試著爬爬看其他版的文章"
   ]
  },
  {
   "cell_type": "code",
   "execution_count": 64,
   "metadata": {},
   "outputs": [
    {
     "name": "stdout",
     "output_type": "stream",
     "text": "Yangdacom, [討論] 有推薦三合一的行車記錄器嗎？, 2/24\nhiphoprover, [新聞] 前 Model S 首席工程師領軍的 Lucid Air, 2/24\nshamanlin, Re: [討論] 朋友跟管委會申請充電柱的回函, 2/24\nzzahoward, Re: [討論] 朋友跟管委會申請充電柱的回函, 2/24\nMunezSu, [公告] Car板板規 2019/08/15 板規修正, 1/09\nz85917131, Re: [整理] 百萬左右熱門新車主被動安全配備(SRS/ESP/VSC..)整理, 4/09\nMunezSu, [活動連署] saitou68201上任第二位版主, 10/01\n"
    }
   ],
   "source": [
    "url = 'https://www.ptt.cc/bbs/car/index.html'\n",
    "res = requests.get(url)\n",
    "soup = BeautifulSoup(res.text)\n",
    "cars = soup.find_all('div', class_='r-ent')\n",
    "for car in cars:\n",
    "    print(('{}, {}, {}').format((car.find(class_='author').text).strip(), (car.find(class_='title').text).strip(), (car.find(class_='date').text).strip()))"
   ]
  }
 ],
 "metadata": {
  "kernelspec": {
   "display_name": "Python 3",
   "language": "python",
   "name": "python3"
  },
  "language_info": {
   "codemirror_mode": {
    "name": "ipython",
    "version": 3
   },
   "file_extension": ".py",
   "mimetype": "text/x-python",
   "name": "python",
   "nbconvert_exporter": "python",
   "pygments_lexer": "ipython3",
   "version": "3.6.3-final"
  }
 },
 "nbformat": 4,
 "nbformat_minor": 2
}