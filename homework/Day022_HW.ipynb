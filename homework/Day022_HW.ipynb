{
 "cells": [
  {
   "cell_type": "markdown",
   "metadata": {},
   "source": [
    "# 空氣污染監測網 網路爬蟲實作練習\n",
    "\n",
    "\n",
    "* 能夠利用 selenium + BeautifulSoup 撰寫爬蟲，並存放到合適的資料結構\n"
   ]
  },
  {
   "cell_type": "markdown",
   "metadata": {},
   "source": [
    "## 作業目標\n",
    "\n",
    "根據範例 ，完成以下問題：\n",
    "\n",
    "* ① 取出 台北市士林區 2018/01 – 2018/08 的 SO2 資料\n",
    "* ② 取出 台北市士林區 2018/01 – 2018/08 的 SO2、CO 資料\n",
    "\n",
    "\n",
    "\n"
   ]
  },
  {
   "cell_type": "markdown",
   "metadata": {},
   "source": [
    "### ① 取出 台北市士林區 2018/01 – 2018/08 的 SO2 資料"
   ]
  },
  {
   "cell_type": "code",
   "execution_count": 39,
   "metadata": {},
   "outputs": [
    {
     "output_type": "stream",
     "name": "stderr",
     "text": "D:\\Users\\Linfe\\AppData\\Local\\Programs\\Python\\Python36-32\\lib\\site-packages\\ipykernel_launcher.py:10: DeprecationWarning: use options instead of chrome_options\n  # Remove the CWD from sys.path while we load stuff.\n"
    }
   ],
   "source": [
    "import requests\n",
    "import time\n",
    "from bs4 import BeautifulSoup\n",
    "from selenium import webdriver\n",
    "from selenium.webdriver.support.ui import Select\n",
    "from selenium.webdriver.common.by import By\n",
    "\n",
    "chrome_option = webdriver.chrome.options.Options()\n",
    "# chrome_option.add_argument('--headless')\n",
    "browser = webdriver.Chrome(executable_path='chromedriver', chrome_options=chrome_option)\n",
    "url = 'https://erdb.epa.gov.tw/DataRepository/EnvMonitor/AirQualityMonitorMonData.aspx'\n",
    "browser.get(url)"
   ]
  },
  {
   "cell_type": "markdown",
   "metadata": {},
   "source": [
    "### ② 取出 台北市士林區 2018/01 – 2018/08 的 SO2、CO 資料"
   ]
  },
  {
   "cell_type": "code",
   "execution_count": 41,
   "metadata": {},
   "outputs": [],
   "source": [
    "rblCondition = browser.find_element_by_id('ctl00_ContentPlaceHolder1_ucSearchCondition_rblCondition_1')\n",
    "rblCondition.click()\n",
    "time.sleep(0.5)\n",
    "AirArea = Select(browser.find_element_by_id('ctl00_ContentPlaceHolder1_ucSearchCondition_ddlAirArea'))\n",
    "AirArea.select_by_value('2')\n",
    "time.sleep(0.5)\n",
    "ddCounty = Select(browser.find_element_by_id('ctl00_ContentPlaceHolder1_ucSearchCondition_ddlCounty'))\n",
    "ddCounty.select_by_value('63000')\n",
    "time.sleep(0.5)\n",
    "ddTownShip = Select(browser.find_element_by_id('ctl00_ContentPlaceHolder1_ucSearchCondition_ddlTownship'))\n",
    "ddTownShip.select_by_value('63000110')\n",
    "time.sleep(0.5)\n",
    "ddlSite = Select(browser.find_element_by_id('ctl00_ContentPlaceHolder1_ucSearchCondition_ddlSite'))\n",
    "ddlSite.select_by_value('全部')\n",
    "time.sleep(0.5)\n",
    "ddlYear = Select(browser.find_element_by_id('ctl00_ContentPlaceHolder1_ucSearchCondition_ddlYear'))\n",
    "ddlYear.select_by_value('2018')\n",
    "time.sleep(0.5)\n",
    "ddlMonth = Select(browser.find_element_by_id('ctl00_ContentPlaceHolder1_ucSearchCondition_ddlMonth'))\n",
    "ddlMonth.select_by_value('01')\n",
    "time.sleep(0.5)\n",
    "ddlYearE = Select(browser.find_element_by_id('ctl00_ContentPlaceHolder1_ucSearchCondition_ddlYearE'))\n",
    "ddlYearE.select_by_value('2018')\n",
    "time.sleep(0.5)\n",
    "ddlMonthE = Select(browser.find_element_by_id('ctl00_ContentPlaceHolder1_ucSearchCondition_ddlMonthE'))\n",
    "ddlMonthE.select_by_value('08')\n",
    "time.sleep(0.5)\n",
    "browser.find_element_by_id('ctl00_ContentPlaceHolder1_imgSearch').click()"
   ]
  },
  {
   "cell_type": "code",
   "execution_count": 112,
   "metadata": {
    "tags": [
     "outputPrepend"
    ]
   },
   "outputs": [
    {
     "output_type": "stream",
     "name": "stdout",
     "text": "SO2 {'2018/08': '2.4', '2018/07': '2.2', '2018/06': '2.7', '2018/05': '3.1', '2018/04': '2.3', '2018/03': '2.2', '2018/02': '1.9'}\nCO {'2018/08': '0.30', '2018/07': '0.21', '2018/06': '0.29', '2018/05': '0.34', '2018/04': '0.38', '2018/03': '0.40', '2018/02': '0.44'}\n"
    }
   ],
   "source": [
    "html_source = browser.page_source\n",
    "soup = BeautifulSoup(html_source, 'html.parser')\n",
    "table = soup.find('table', class_ = 'gvColspan')\n",
    "wsnw = table.find_all('tr')\n",
    "Res, SO2s, COs = {}, {}, {}\n",
    "for k, v in enumerate(wsnw):\n",
    "    if k == 0: continue\n",
    "    town = v.find(style='width:10%;').text\n",
    "    if not town == '士林': continue\n",
    "    # print(v)\n",
    "    date = v.find(style='width: 13%; display: none;').text\n",
    "    IsNA = v.find_all(class_='IsNA')\n",
    "    SO2 = IsNA[0].text\n",
    "    CO = IsNA[1].text\n",
    "    SO2s[date] = SO2\n",
    "    COs[date] = CO\n",
    "Res['SO2'] = SO2s\n",
    "Res['CO'] = COs\n",
    "for k, v in Res.items():\n",
    "    print(k, v)\n",
    "\n",
    "browser.quit()"
   ]
  },
  {
   "cell_type": "code",
   "execution_count": 113,
   "metadata": {},
   "outputs": [
    {
     "output_type": "execute_result",
     "data": {
      "text/plain": "         SO2    CO\n2018/02  1.9  0.44\n2018/03  2.2  0.40\n2018/04  2.3  0.38\n2018/05  3.1  0.34\n2018/06  2.7  0.29\n2018/07  2.2  0.21\n2018/08  2.4  0.30",
      "text/html": "<div>\n<style scoped>\n    .dataframe tbody tr th:only-of-type {\n        vertical-align: middle;\n    }\n\n    .dataframe tbody tr th {\n        vertical-align: top;\n    }\n\n    .dataframe thead th {\n        text-align: right;\n    }\n</style>\n<table border=\"1\" class=\"dataframe\">\n  <thead>\n    <tr style=\"text-align: right;\">\n      <th></th>\n      <th>SO2</th>\n      <th>CO</th>\n    </tr>\n  </thead>\n  <tbody>\n    <tr>\n      <th>2018/02</th>\n      <td>1.9</td>\n      <td>0.44</td>\n    </tr>\n    <tr>\n      <th>2018/03</th>\n      <td>2.2</td>\n      <td>0.40</td>\n    </tr>\n    <tr>\n      <th>2018/04</th>\n      <td>2.3</td>\n      <td>0.38</td>\n    </tr>\n    <tr>\n      <th>2018/05</th>\n      <td>3.1</td>\n      <td>0.34</td>\n    </tr>\n    <tr>\n      <th>2018/06</th>\n      <td>2.7</td>\n      <td>0.29</td>\n    </tr>\n    <tr>\n      <th>2018/07</th>\n      <td>2.2</td>\n      <td>0.21</td>\n    </tr>\n    <tr>\n      <th>2018/08</th>\n      <td>2.4</td>\n      <td>0.30</td>\n    </tr>\n  </tbody>\n</table>\n</div>"
     },
     "metadata": {},
     "execution_count": 113
    }
   ],
   "source": [
    "import pandas as pd\n",
    "pd.DataFrame(Res)"
   ]
  }
 ],
 "metadata": {
  "kernelspec": {
   "display_name": "Python 3",
   "language": "python",
   "name": "python3"
  },
  "language_info": {
   "codemirror_mode": {
    "name": "ipython",
    "version": 3
   },
   "file_extension": ".py",
   "mimetype": "text/x-python",
   "name": "python",
   "nbconvert_exporter": "python",
   "pygments_lexer": "ipython3",
   "version": "3.6.3-final"
  }
 },
 "nbformat": 4,
 "nbformat_minor": 2
}