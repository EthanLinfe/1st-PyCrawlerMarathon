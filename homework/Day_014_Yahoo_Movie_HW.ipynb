{
 "cells": [
  {
   "cell_type": "markdown",
   "metadata": {},
   "source": [
    "# YAHOO電影爬蟲練習\n",
    "## 練習爬取電影放映資訊。必須逐步獲取電影的代號、放映地區、放映日期後，再送出查詢給伺服器。"
   ]
  },
  {
   "cell_type": "code",
   "execution_count": 1,
   "metadata": {},
   "outputs": [],
   "source": [
    "import requests\n",
    "import re\n",
    "from bs4 import BeautifulSoup"
   ]
  },
  {
   "cell_type": "markdown",
   "metadata": {},
   "source": [
    "### 先搜尋全部的電影代號(ID)資訊"
   ]
  },
  {
   "cell_type": "code",
   "execution_count": 2,
   "metadata": {},
   "outputs": [
    {
     "name": "stdout",
     "output_type": "stream",
     "text": "Movie: 咒怨2 電影版, ID: 10464\nMovie: 失路人, ID: 10498\nMovie: 電影音效傳奇：好萊塢之聲, ID: 10484\nMovie: 悲慘世界, ID: 10479\nMovie: 吹哨奇案, ID: 10475\nMovie: 閃閃小超人電影版, ID: 10474\nMovie: 少年阿罕默德, ID: 10468\nMovie: 咒怨 電影版, ID: 10463\nMovie: 陰櫥, ID: 10457\nMovie: 絕命大平台, ID: 10447\nMovie: 李察朱威爾事件, ID: 10368\nMovie: 音速小子, ID: 9246\nMovie: 逃出夢幻島, ID: 10485\nMovie: 雨天．紐約, ID: 10476\nMovie: 戰慄魔胎, ID: 10471\nMovie: 殺不了的他與死不了的她, ID: 10467\nMovie: 失控少年兵團, ID: 10456\nMovie: 超＂人＂氣動物園, ID: 10445\nMovie: 就愛斷捨離, ID: 10436\nMovie: 全境失控, ID: 10426\nMovie: 謎夜拼圖, ID: 10418\nMovie: 尋愛夢工廠, ID: 10400\nMovie: 愛情人形, ID: 10394\nMovie: 我的寶貝男孩, ID: 10489\nMovie: 蜜蜂與遠雷, ID: 10419\nMovie: 電影版 輝夜姬想讓人告白～天才們的戀愛頭腦戰～, ID: 10405\nMovie: 古曼童, ID: 10399\nMovie: 猛禽小隊：小丑女大解放, ID: 10268\nMovie: 鬼魅之家, ID: 10459\nMovie: 紅鞋公主與七矮人, ID: 10417\nMovie: 黑水風暴, ID: 10398\nMovie: 1917, ID: 10189\nMovie: 肥龍過江, ID: 10449\nMovie: 你的情歌, ID: 10407\nMovie: 紳士追殺令, ID: 10317\nMovie: 杜立德, ID: 10316\nMovie: 深海終劫站, ID: 10230\nMovie: 她們, ID: 10202\nMovie: 變身特務, ID: 9008\nMovie: 巧虎電影：英雄遊樂園, ID: 10429\nMovie: 在黑暗中漫舞：20週年數位修復版, ID: 10428\nMovie: 不完美的正義, ID: 10243\nMovie: 絕地戰警FOR LIFE, ID: 10242\nMovie: 星星知我心, ID: 10409\nMovie: 逃出天堂島, ID: 10384\nMovie: 魯邦三世 The First, ID: 10355\nMovie: 別告訴她, ID: 10382\nMovie: 兔嘲男孩, ID: 10283\nMovie: 舞力決戰, ID: 10344\nMovie: 潛艦追緝, ID: 10333\nMovie: 霹靂嬌娃, ID: 10124\nMovie: 白頭山：半島浩劫, ID: 10354\nMovie: 怨靈古堡, ID: 10356\nMovie: 茱蒂, ID: 10112\nMovie: 燃燒女子的畫像, ID: 10069\nMovie: 復仇母親, ID: 10392\nMovie: 黑計畫, ID: 10351\nMovie: 8級警戒, ID: 10323\nMovie: 大說謊家, ID: 10122\nMovie: 人間失格：太宰治與他的3個女人, ID: 10287\nMovie: 布魯克林孤兒, ID: 10224\nMovie: 暴走曼哈頓, ID: 10044\nMovie: 賽道狂人, ID: 10097\nMovie: 82年生的金智英, ID: 10298\nMovie: 冰雪奇緣2, ID: 9597\nMovie: 萬萬沒想到, ID: 10281\nMovie: 救火奶爸, ID: 10164\nMovie: 決戰中途島, ID: 10130\nMovie: 魔鬼終結者：黑暗宿命, ID: 10067\nMovie: 絕鯊47：猛鯊出籠, ID: 10214\nMovie: 陪你很久很久, ID: 10160\nMovie: 雙子殺手, ID: 10017\nMovie: 黑魔女2, ID: 10262\nMovie: 小丑, ID: 9949\nMovie: 囧媽的極地任務, ID: 7772\nMovie: 返校, ID: 10109\nMovie: 天氣之子, ID: 10091\nMovie: 亂世佳人, ID: 10170\nMovie: 寄生上流, ID: 10020\nMovie: 一首搖滾上月球, ID: 4887\nMovie: 錢不夠用2, ID: 3026\n"
    }
   ],
   "source": [
    "# 查看目前上映那些電影，並擷取出其ID資訊\n",
    "url = 'https://movies.yahoo.com.tw/'\n",
    "resp = requests.get(url)\n",
    "resp.encoding = 'utf-8'\n",
    "\n",
    "soup = BeautifulSoup(resp.text, 'lxml')\n",
    "html = soup.find(\"select\", attrs={'name':'movie_id'})\n",
    "movie_item = html.find_all(\"option\", attrs={'data-name':re.compile('.*')})\n",
    "\n",
    "for p in movie_item:\n",
    "    print(\"Movie: %s, ID: %s\" % (p[\"data-name\"], p[\"value\"]))"
   ]
  },
  {
   "cell_type": "markdown",
   "metadata": {},
   "source": [
    "### 指定你有興趣的電影其ID，然後查詢其放映地區資訊。"
   ]
  },
  {
   "cell_type": "code",
   "execution_count": 83,
   "metadata": {},
   "outputs": [],
   "source": [
    "# 參考前一個步驟中擷取到的ID資訊，並指定ID\n",
    "movie_id = 10189"
   ]
  },
  {
   "cell_type": "code",
   "execution_count": 84,
   "metadata": {},
   "outputs": [
    {
     "name": "stdout",
     "output_type": "stream",
     "text": "放映地區: 台北市, 代號(area_id): 28\n放映地區: 新北市, 代號(area_id): 8\n放映地區: 桃園, 代號(area_id): 16\n放映地區: 新竹, 代號(area_id): 20\n放映地區: 苗栗, 代號(area_id): 15\n放映地區: 台中, 代號(area_id): 2\n放映地區: 彰化, 代號(area_id): 22\n放映地區: 南投, 代號(area_id): 13\n放映地區: 雲林, 代號(area_id): 19\n放映地區: 嘉義, 代號(area_id): 21\n放映地區: 台南, 代號(area_id): 10\n放映地區: 高雄, 代號(area_id): 17\n放映地區: 屏東, 代號(area_id): 14\n放映地區: 基隆, 代號(area_id): 18\n放映地區: 宜蘭, 代號(area_id): 11\n放映地區: 花蓮, 代號(area_id): 12\n放映地區: 台東, 代號(area_id): 9\n放映地區: 金門, 代號(area_id): 24\n放映地區: 澎湖, 代號(area_id): 23\n"
    }
   ],
   "source": [
    "url = 'https://movies.yahoo.com.tw/api/v1/areas_by_movie_theater'\n",
    "payload = {'movie_id':str(movie_id)}\n",
    "\n",
    "# 模擬一個header\n",
    "headers = {\n",
    "    'authority': 'movies.yahoo.com.tw',\n",
    "    'method': 'GET',\n",
    "    'path': '/api/v1/areas_by_movie_theater?movie_id=' + str(movie_id),\n",
    "    'scheme': 'https',\n",
    "    'accept': 'application/json, text/javascript, */*; q=0.01',\n",
    "    'accept-encoding': 'gzip, deflate, br',\n",
    "    'accept-language': 'zh-TW,zh;q=0.9,en-US;q=0.8,en;q=0.7,zh-CN;q=0.6',\n",
    "    'cookie': 'rxx=9s3x2fws06.1g16irnc&v=1; _ga=GA1.3.2056742944.1551651301; GUC=AQEBAQFczFpdm0IfmwSB&s=AQAAACoo4N5D&g=XMsVBw; BX=4hkdk1decm57t&b=3&s=mr; _ga=GA1.4.2056742944.1551651301; nexagesuid=82843256dd234e8e91aa73f2062f8218; browsed_movie=eyJpdiI6IlJXWWtiSWJaZlNGK2MxQnhscnVUYWc9PSIsInZhbHVlIjoiMXRhMmVHRXRIeUNjc1RBWDJzdGYwbnlIQURmWGsrcjJSMzhkbkcraDNJVUNIZEZsbzU3amlFcVZ1NzlmazJrTGpoMjVrbHk1YmpoRENXaHZTOUw1TmI2ZTZVWHdOejZQZm16RmVuMWlHTTJLaTZLVFZZVkFOMDlTd1wvSGltcytJIiwibWFjIjoiZWQ2ZjA4MmVjZmZlYjlmNjJmYmY2NGMyMDI0Njc0NWViYjVkOWE2NDg0N2RhODMxZjBjZDhiMmJhZTc2MDZhYiJ9; avi=eyJpdiI6Im1NeWFJRlVRWDR1endEcGRGUGJUbVE9PSIsInZhbHVlIjoickRpU3JuUytmcGl6cjF5OW0rNU9iZz09IiwibWFjIjoiY2VmY2NkNzZmM2NhNjY5YzlkOTcyNjE5OGEyMzU0NWYxOTdmMDRkMDY3OWNmMmZjOTMxYjc5MjI5N2Q5NGE5MiJ9; cmp=t=1559391030&j=0; _gid=GA1.4.779543841.1559391031; XSRF-TOKEN=eyJpdiI6IkhpS2hGcDRQaHlmWUJmaHdSS2Q2bHc9PSIsInZhbHVlIjoiOUVoNFk4OHI1UUZmUWRtYXhza0MyWjJSTlhlZ3RnT0VGeVJPN2JuczVRMGRFdWt2OUlsamVKeHRobFwvcHBGM0dhU3VyMXNGTHlsb2dVM2l0U1hpUGxBPT0iLCJtYWMiOiJkZWU4YzJhNjAxMTY3MzE4Y2ExNWIxYmE1ZjE1YWZlZTlhOTcyYjc4M2RlZGY4ZWNjZDYyMTA2NGYwZGViMzc2In0%3D; m_s=eyJpdiI6InpsZHZ2Tk1BZ0dxaHhETml1RjBnUXc9PSIsInZhbHVlIjoiSkNGeHUranRoXC85bDFiaDhySTJqNkJRcWdjWUxjeVRJSHVYZ1wvd2d4bWJZUTUrSHVDM0lUcW5KNHdETFZ4T1lieU81OUhzc1VoUXhZcWk0UDZSQXVFdz09IiwibWFjIjoiYmJkMDJkMDhlODIzMzcyMWY4M2NmYWNjNGVlOWRjMDIwZmVmNzAyMjE3Yzg3ZGY3ODBkZWEzZTI4MTI5ZWNmOSJ9; _gat=1; nexagesd=10',\n",
    "    'dnt': '1',\n",
    "    'mv-authorization': '21835b082e15b91a69b3851eec7b31b82ce82afb',\n",
    "    'referer': 'https://movies.yahoo.com.tw/',\n",
    "    'user-agent': 'Mozilla/5.0 (Windows NT 10.0; Win64; x64) AppleWebKit/537.36 (KHTML, like Gecko) Chrome/74.0.3729.169 Safari/537.36',\n",
    "    'x-requested-with': 'XMLHttpRequest',\n",
    "}\n",
    "    \n",
    "resp = requests.get(url, params=payload, headers=headers)\n",
    "# print(resp.json())  # 若有需要，列印出json原始碼\n",
    "\n",
    "# 這裡回傳的格式是JSON格式的資料，要解析JSON擷取資料\n",
    "for p in resp.json():\n",
    "    print('放映地區: {0}, 代號(area_id): {1}'.format(p['title'], p['area_id']))"
   ]
  },
  {
   "cell_type": "markdown",
   "metadata": {},
   "source": [
    "### 指定你想要觀看的放映地區，查詢有上映電影的場次日期"
   ]
  },
  {
   "cell_type": "code",
   "execution_count": 94,
   "metadata": {},
   "outputs": [],
   "source": [
    "# 指定放映地區\n",
    "area_id = 20"
   ]
  },
  {
   "cell_type": "code",
   "execution_count": 96,
   "metadata": {},
   "outputs": [
    {
     "name": "stdout",
     "output_type": "stream",
     "text": "二月 24\n二月 25\n二月 26\n二月 27\n二月 28\n"
    }
   ],
   "source": [
    "# 向網站發送請求\n",
    "url = 'https://movies.yahoo.com.tw/movietime_result.html'\n",
    "payload = {'movie_id':str(movie_id), 'area_id':str(area_id)}\n",
    "resp = requests.get(url, params=payload)\n",
    "resp.encoding = 'utf-8'\n",
    "\n",
    "soup = BeautifulSoup(resp.text, 'lxml')\n",
    "movie_date = soup.find_all(\"label\", attrs={'for':re.compile(\"date_[\\d]\")})\n",
    "\n",
    "# 列印播放日期\n",
    "for date in movie_date:\n",
    "    print(\"%s %s\" % (date.p.string, date.h3.string))"
   ]
  },
  {
   "cell_type": "markdown",
   "metadata": {},
   "source": [
    "### 最後指定觀看的日期，查詢並列印出放映的電影院、放映類型(數位、3D、IMAX 3D...)、放映時間等資訊。"
   ]
  },
  {
   "cell_type": "code",
   "execution_count": 97,
   "metadata": {},
   "outputs": [],
   "source": [
    "# 選定要觀看的日期\n",
    "date = \"2020-02-24\""
   ]
  },
  {
   "cell_type": "code",
   "execution_count": 101,
   "metadata": {},
   "outputs": [
    {
     "data": {
      "text/plain": "<ul class=\"area_time _c jq_area_time\" data-theater_name=\"新竹巨城威秀影城\" data-theater_schedules=\"https://movies.yahoo.com.tw/theater_result.html/id=145\" data-theater_url=\"\" id=\"theater_id_145\">\n<li class=\"adds\">\n<a href=\"https://movies.yahoo.com.tw/theater_result.html/id=145\">新竹巨城威秀影城</a>\n<span>03-5346999</span>\n</li>\n<li class=\"taps\">\n<span class=\"tapR\">IMAX</span> </li>\n<li class=\"time _c\">\n<div class=\"input_picker jq_input_picker\">\n<input class=\"gabtn\" data-cinema=\"4f9fbbac7a2d11e18e86000bdb90dba4\" data-date=\"1582473600\" data-ezding=\"ezding\" data-ga=\"['電影頁_時刻表', '電影頁_時刻表_場次', '1917']\" data-movie=\"398d2a17b3564a4fae56c7e542db8424\" data-movie_date=\"02.24\" data-movie_time=\"16:50\" data-movie_title=\"1917\" data-movie_type=\"IMAX\" data-session=\"cd0b3c79ae724e08a053ea59331c8d13\" data-time=\"1582534200\" id=\"73212724\" name=\"schedule_list\" type=\"radio\" value=\"2020-02-24 16:50:00\"/>\n<label class=\"\" for=\"73212724\">16:50</label>\n<input class=\"gabtn\" data-cinema=\"4f9fbbac7a2d11e18e86000bdb90dba4\" data-date=\"1582473600\" data-ezding=\"ezding\" data-ga=\"['電影頁_時刻表', '電影頁_時刻表_場次', '1917']\" data-movie=\"398d2a17b3564a4fae56c7e542db8424\" data-movie_date=\"02.24\" data-movie_time=\"21:25\" data-movie_title=\"1917\" data-movie_type=\"IMAX\" data-session=\"7da655252f81480dafe83bafbe781e55\" data-time=\"1582550700\" id=\"73212727\" name=\"schedule_list\" type=\"radio\" value=\"2020-02-24 21:25:00\"/>\n<label class=\"select\" for=\"73212727\">21:25</label>\n</div>\n</li>\n<li class=\"taps\">\n<span class=\"tapR\">數位</span> </li>\n<li class=\"time _c\">\n<div class=\"input_picker jq_input_picker\">\n<input class=\"gabtn\" data-cinema=\"4f9fbbac7a2d11e18e86000bdb90dba4\" data-date=\"1582473600\" data-ezding=\"ezding\" data-ga=\"['電影頁_時刻表', '電影頁_時刻表_場次', '1917']\" data-movie=\"73647f5f60a149618322e781fd88da4c\" data-movie_date=\"02.24\" data-movie_time=\"18:10\" data-movie_title=\"1917\" data-movie_type=\"數位\" data-session=\"83b540aaf0ac4a75a6bdf487ddede2f9\" data-time=\"1582539000\" id=\"73212725\" name=\"schedule_list\" type=\"radio\" value=\"2020-02-24 18:10:00\"/>\n<label class=\"select\" for=\"73212725\">18:10</label>\n<input class=\"gabtn\" data-cinema=\"4f9fbbac7a2d11e18e86000bdb90dba4\" data-date=\"1582473600\" data-ezding=\"ezding\" data-ga=\"['電影頁_時刻表', '電影頁_時刻表_場次', '1917']\" data-movie=\"73647f5f60a149618322e781fd88da4c\" data-movie_date=\"02.24\" data-movie_time=\"20:25\" data-movie_title=\"1917\" data-movie_type=\"數位\" data-session=\"110c1e7d6667494c9d8196f77fdafe79\" data-time=\"1582547100\" id=\"73212726\" name=\"schedule_list\" type=\"radio\" value=\"2020-02-24 20:25:00\"/>\n<label class=\"select\" for=\"73212726\">20:25</label>\n<input class=\"gabtn\" data-cinema=\"4f9fbbac7a2d11e18e86000bdb90dba4\" data-date=\"1582473600\" data-ezding=\"ezding\" data-ga=\"['電影頁_時刻表', '電影頁_時刻表_場次', '1917']\" data-movie=\"73647f5f60a149618322e781fd88da4c\" data-movie_date=\"02.24\" data-movie_time=\"22:40\" data-movie_title=\"1917\" data-movie_type=\"數位\" data-session=\"86113f761d0d4b5e88fe29a75e936242\" data-time=\"1582555200\" id=\"73212728\" name=\"schedule_list\" type=\"radio\" value=\"2020-02-24 22:40:00\"/>\n<label class=\"select\" for=\"73212728\">22:40</label>\n</div>\n</li>\n</ul>"
     },
     "execution_count": 101,
     "metadata": {},
     "output_type": "execute_result"
    }
   ],
   "source": [
    "# 向網站發送請求，獲取上映的電影院及時間資訊\n",
    "url = \"https://movies.yahoo.com.tw/ajax/pc/get_schedule_by_movie\"\n",
    "payload = {'movie_id':str(movie_id),\n",
    "           'date':date,\n",
    "           'area_id':str(area_id),\n",
    "           'theater_id':'',\n",
    "           'datetime':'',\n",
    "           'movie_type_id':''}\n",
    "resp = requests.get(url, params=payload)\n",
    "# print(resp.json()['view'])  # 若有需要，列印出json原始碼\n",
    "\n",
    "soup = BeautifulSoup(resp.json()['view'], 'lxml')\n",
    "html = soup.find_all(\"ul\", attrs={'data-theater_name':re.compile(\".*\")})\n",
    "html[2]"
   ]
  },
  {
   "cell_type": "code",
   "execution_count": 104,
   "metadata": {},
   "outputs": [
    {
     "name": "stdout",
     "output_type": "stream",
     "text": "Movie theater: 新竹大遠百威秀影城\nPlay type: 數位\n02.24 20:45\nMovie theater: 國際影城國際館\nPlay type: 數位\n02.24 11:00\n02.24 13:10\n02.24 15:20\n02.24 19:40\n02.24 21:50\n02.25 00:00\nMovie theater: 新竹巨城威秀影城\nPlay type: IMAX\n02.24 16:50\n02.24 21:25\n02.24 18:10\n02.24 20:25\n02.24 22:40\nPlay type: 數位\n02.24 16:50\n02.24 21:25\n02.24 18:10\n02.24 20:25\n02.24 22:40\n"
    }
   ],
   "source": [
    "for movie in html:\n",
    "  theater = movie.find('a').text\n",
    "  print('Movie theater: {}'.format(theater))\n",
    "  taps = movie.find_all(class_='tapR')\n",
    "  for tap in taps:\n",
    "    typeR = tap.text\n",
    "    print('Play type: {}'.format(typeR))\n",
    "    sessions = movie.find_all(class_='gabtn')\n",
    "    for session in sessions:\n",
    "      date = session['data-movie_date']\n",
    "      time = session['data-movie_time']\n",
    "      print('{} {}'.format(date, time))\n"
   ]
  },
  {
   "cell_type": "code",
   "execution_count": null,
   "metadata": {},
   "outputs": [],
   "source": []
  }
 ],
 "metadata": {
  "kernelspec": {
   "display_name": "Python 3",
   "language": "python",
   "name": "python3"
  },
  "language_info": {
   "codemirror_mode": {
    "name": "ipython",
    "version": 3
   },
   "file_extension": ".py",
   "mimetype": "text/x-python",
   "name": "python",
   "nbconvert_exporter": "python",
   "pygments_lexer": "ipython3",
   "version": "3.6.3-final"
  }
 },
 "nbformat": 4,
 "nbformat_minor": 2
}